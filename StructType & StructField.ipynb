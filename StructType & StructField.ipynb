{
 "cells": [
  {
   "cell_type": "code",
   "execution_count": 0,
   "metadata": {
    "application/vnd.databricks.v1+cell": {
     "cellMetadata": {},
     "inputWidgets": {},
     "nuid": "c6c6bcfb-01de-4a31-b055-b578685a3f53",
     "showTitle": false,
     "title": ""
    }
   },
   "outputs": [
    {
     "output_type": "display_data",
     "data": {
      "text/html": [
       "<style scoped>\n",
       "  .ansiout {\n",
       "    display: block;\n",
       "    unicode-bidi: embed;\n",
       "    white-space: pre-wrap;\n",
       "    word-wrap: break-word;\n",
       "    word-break: break-all;\n",
       "    font-family: \"Menlo\", \"Monaco\", \"Consolas\", \"Ubuntu Mono\", \"Source Code Pro\", monospace;\n",
       "    font-size: 13px;\n",
       "    color: #555;\n",
       "    margin-left: 4px;\n",
       "    line-height: 19px;\n",
       "  }\n",
       "</style>\n",
       "<div class=\"ansiout\"></div>"
      ]
     },
     "metadata": {
      "application/vnd.databricks.v1+output": {
       "addedWidgets": {},
       "arguments": {},
       "data": "<div class=\"ansiout\"></div>",
       "datasetInfos": [],
       "metadata": {},
       "removedWidgets": [],
       "type": "html"
      }
     },
     "output_type": "display_data"
    }
   ],
   "source": [
    "from pyspark.sql.functions import *\n",
    "from pyspark.sql.types import *"
   ]
  },
  {
   "cell_type": "code",
   "execution_count": 0,
   "metadata": {
    "application/vnd.databricks.v1+cell": {
     "cellMetadata": {},
     "inputWidgets": {},
     "nuid": "672ae5e3-4bc2-4f8f-abdf-aa0900b038cf",
     "showTitle": true,
     "title": "StructType() & StructField()"
    }
   },
   "outputs": [
    {
     "output_type": "display_data",
     "data": {
      "text/html": [
       "<style scoped>\n",
       "  .table-result-container {\n",
       "    max-height: 300px;\n",
       "    overflow: auto;\n",
       "  }\n",
       "  table, th, td {\n",
       "    border: 1px solid black;\n",
       "    border-collapse: collapse;\n",
       "  }\n",
       "  th, td {\n",
       "    padding: 5px;\n",
       "  }\n",
       "  th {\n",
       "    text-align: left;\n",
       "  }\n",
       "</style><div class='table-result-container'><table class='table-result'><thead style='background-color: white'><tr><th>first_name</th><th>middle_name</th><th>last_name</th><th>age</th><th>city</th><th>salary</th></tr></thead><tbody><tr><td>Shrikant</td><td>Vitthal</td><td>Shejwal</td><td>21</td><td>Pune</td><td>15000</td></tr><tr><td>Sanjivanee</td><td>Vitthal</td><td>Shejwal</td><td>22</td><td>Karad</td><td>46000</td></tr><tr><td>Sagar</td><td>Vitthal</td><td>Shejwal</td><td>27</td><td>Tripura</td><td>105000</td></tr><tr><td>Sita</td><td>Vitthal</td><td>Shejwal</td><td>49</td><td>Umbraj</td><td>null</td></tr><tr><td>Vitthal</td><td>Namdev</td><td>Shejwal</td><td>55</td><td>Umbraj</td><td>17000</td></tr></tbody></table></div>"
      ]
     },
     "metadata": {
      "application/vnd.databricks.v1+output": {
       "addedWidgets": {},
       "aggData": [],
       "aggError": "",
       "aggOverflow": false,
       "aggSchema": [],
       "aggSeriesLimitReached": false,
       "aggType": "",
       "arguments": {},
       "columnCustomDisplayInfos": {},
       "data": [
        [
         "Shrikant",
         "Vitthal",
         "Shejwal",
         21,
         "Pune",
         15000
        ],
        [
         "Sanjivanee",
         "Vitthal",
         "Shejwal",
         22,
         "Karad",
         46000
        ],
        [
         "Sagar",
         "Vitthal",
         "Shejwal",
         27,
         "Tripura",
         105000
        ],
        [
         "Sita",
         "Vitthal",
         "Shejwal",
         49,
         "Umbraj",
         null
        ],
        [
         "Vitthal",
         "Namdev",
         "Shejwal",
         55,
         "Umbraj",
         17000
        ]
       ],
       "datasetInfos": [],
       "dbfsResultPath": null,
       "isJsonSchema": true,
       "metadata": {},
       "overflow": false,
       "plotOptions": {
        "customPlotOptions": {},
        "displayType": "table",
        "pivotAggregation": null,
        "pivotColumns": null,
        "xColumns": null,
        "yColumns": null
       },
       "removedWidgets": [],
       "schema": [
        {
         "metadata": "{}",
         "name": "first_name",
         "type": "\"string\""
        },
        {
         "metadata": "{}",
         "name": "middle_name",
         "type": "\"string\""
        },
        {
         "metadata": "{}",
         "name": "last_name",
         "type": "\"string\""
        },
        {
         "metadata": "{}",
         "name": "age",
         "type": "\"long\""
        },
        {
         "metadata": "{}",
         "name": "city",
         "type": "\"string\""
        },
        {
         "metadata": "{}",
         "name": "salary",
         "type": "\"long\""
        }
       ],
       "type": "table"
      }
     },
     "output_type": "display_data"
    }
   ],
   "source": [
    "data = [('Shrikant', 'Vitthal', 'Shejwal', 21, 'Pune', 15000),\n",
    "       ('Sanjivanee', 'Vitthal', 'Shejwal', 22, 'Karad', 46000),\n",
    "       ('Sagar', 'Vitthal', 'Shejwal', 27, 'Tripura', 105000),\n",
    "       ('Sita', 'Vitthal', 'Shejwal', 49, 'Umbraj', None),\n",
    "       ('Vitthal', 'Namdev', 'Shejwal', 55, 'Umbraj', 17000)]\n",
    "df = spark.createDataFrame(data=data, schema=['first_name', 'middle_name', 'last_name', 'age', 'city', 'salary'])\n",
    "df.display()"
   ]
  },
  {
   "cell_type": "code",
   "execution_count": 0,
   "metadata": {
    "application/vnd.databricks.v1+cell": {
     "cellMetadata": {},
     "inputWidgets": {},
     "nuid": "1b7d7842-503a-4ffa-9747-cad6c7428eed",
     "showTitle": false,
     "title": ""
    }
   },
   "outputs": [
    {
     "output_type": "display_data",
     "data": {
      "text/html": [
       "<style scoped>\n",
       "  .table-result-container {\n",
       "    max-height: 300px;\n",
       "    overflow: auto;\n",
       "  }\n",
       "  table, th, td {\n",
       "    border: 1px solid black;\n",
       "    border-collapse: collapse;\n",
       "  }\n",
       "  th, td {\n",
       "    padding: 5px;\n",
       "  }\n",
       "  th {\n",
       "    text-align: left;\n",
       "  }\n",
       "</style><div class='table-result-container'><table class='table-result'><thead style='background-color: white'><tr><th>names</th><th>age</th><th>city</th><th>salary</th></tr></thead><tbody><tr><td>List(Shrikant, Vitthal, Shejwal)</td><td>21</td><td>Pune</td><td>15000</td></tr><tr><td>List(Sanjivanee, Vitthal, Shejwal)</td><td>22</td><td>Karad</td><td>46000</td></tr><tr><td>List(Sagar, Vitthal, Shejwal)</td><td>27</td><td>Tripura</td><td>105000</td></tr><tr><td>List(Sita, Vitthal, Shejwal)</td><td>49</td><td>Umbraj</td><td>null</td></tr><tr><td>List(Vitthal, Namdev, Shejwal)</td><td>55</td><td>Umbraj</td><td>17000</td></tr></tbody></table></div>"
      ]
     },
     "metadata": {
      "application/vnd.databricks.v1+output": {
       "addedWidgets": {},
       "aggData": [],
       "aggError": "",
       "aggOverflow": false,
       "aggSchema": [],
       "aggSeriesLimitReached": false,
       "aggType": "",
       "arguments": {},
       "columnCustomDisplayInfos": {},
       "data": [
        [
         [
          "Shrikant",
          "Vitthal",
          "Shejwal"
         ],
         21,
         "Pune",
         "15000"
        ],
        [
         [
          "Sanjivanee",
          "Vitthal",
          "Shejwal"
         ],
         22,
         "Karad",
         "46000"
        ],
        [
         [
          "Sagar",
          "Vitthal",
          "Shejwal"
         ],
         27,
         "Tripura",
         "105000"
        ],
        [
         [
          "Sita",
          "Vitthal",
          "Shejwal"
         ],
         49,
         "Umbraj",
         null
        ],
        [
         [
          "Vitthal",
          "Namdev",
          "Shejwal"
         ],
         55,
         "Umbraj",
         "17000"
        ]
       ],
       "datasetInfos": [],
       "dbfsResultPath": null,
       "isJsonSchema": true,
       "metadata": {},
       "overflow": false,
       "plotOptions": {
        "customPlotOptions": {},
        "displayType": "table",
        "pivotAggregation": null,
        "pivotColumns": null,
        "xColumns": null,
        "yColumns": null
       },
       "removedWidgets": [],
       "schema": [
        {
         "metadata": "{}",
         "name": "names",
         "type": "{\"type\":\"struct\",\"fields\":[{\"name\":\"first_name\",\"type\":\"string\",\"nullable\":true,\"metadata\":{}},{\"name\":\"middle_name\",\"type\":\"string\",\"nullable\":true,\"metadata\":{}},{\"name\":\"last_name\",\"type\":\"string\",\"nullable\":true,\"metadata\":{}}]}"
        },
        {
         "metadata": "{}",
         "name": "age",
         "type": "\"integer\""
        },
        {
         "metadata": "{}",
         "name": "city",
         "type": "\"string\""
        },
        {
         "metadata": "{}",
         "name": "salary",
         "type": "\"string\""
        }
       ],
       "type": "table"
      }
     },
     "output_type": "display_data"
    }
   ],
   "source": [
    "data = [(('Shrikant', 'Vitthal', 'Shejwal'), 21, 'Pune', 15000),\n",
    "       (('Sanjivanee', 'Vitthal', 'Shejwal'), 22, 'Karad', 46000),\n",
    "       (('Sagar', 'Vitthal', 'Shejwal'), 27, 'Tripura', 105000),\n",
    "       (('Sita', 'Vitthal', 'Shejwal'), 49, 'Umbraj', None),\n",
    "       (('Vitthal', 'Namdev', 'Shejwal'), 55, 'Umbraj', 17000)]\n",
    "schema = StructType([StructField('names', StructType([\\\n",
    "                                         StructField('first_name', StringType(), True),\n",
    "                                         StructField('middle_name', StringType(), True),\n",
    "                                         StructField('last_name', StringType(), True)])),\n",
    "                    StructField('age', IntegerType(), True),\n",
    "                    StructField('city', StringType(), True),\n",
    "                    StructField('salary', StringType(), True)])\n",
    "df1 = spark.createDataFrame(data=data, schema=schema)\n",
    "df1.display()"
   ]
  },
  {
   "cell_type": "code",
   "execution_count": 0,
   "metadata": {
    "application/vnd.databricks.v1+cell": {
     "cellMetadata": {},
     "inputWidgets": {},
     "nuid": "91594cda-cf6d-44c2-8edb-5cd7230d64d6",
     "showTitle": false,
     "title": ""
    }
   },
   "outputs": [
    {
     "output_type": "display_data",
     "data": {
      "text/html": [
       "<style scoped>\n",
       "  .table-result-container {\n",
       "    max-height: 300px;\n",
       "    overflow: auto;\n",
       "  }\n",
       "  table, th, td {\n",
       "    border: 1px solid black;\n",
       "    border-collapse: collapse;\n",
       "  }\n",
       "  th, td {\n",
       "    padding: 5px;\n",
       "  }\n",
       "  th {\n",
       "    text-align: left;\n",
       "  }\n",
       "</style><div class='table-result-container'><table class='table-result'><thead style='background-color: white'><tr><th>first_name</th><th>middle_name</th><th>last_name</th><th>age</th><th>city</th><th>salary</th></tr></thead><tbody><tr><td>Shrikant</td><td>Vitthal</td><td>Shejwal</td><td>21</td><td>Pune</td><td>15000</td></tr><tr><td>Sanjivanee</td><td>Vitthal</td><td>Shejwal</td><td>22</td><td>Karad</td><td>46000</td></tr><tr><td>Sagar</td><td>Vitthal</td><td>Shejwal</td><td>27</td><td>Tripura</td><td>105000</td></tr><tr><td>Sita</td><td>Vitthal</td><td>Shejwal</td><td>49</td><td>Umbraj</td><td>null</td></tr><tr><td>Vitthal</td><td>Namdev</td><td>Shejwal</td><td>55</td><td>Umbraj</td><td>17000</td></tr></tbody></table></div>"
      ]
     },
     "metadata": {
      "application/vnd.databricks.v1+output": {
       "addedWidgets": {},
       "aggData": [],
       "aggError": "",
       "aggOverflow": false,
       "aggSchema": [],
       "aggSeriesLimitReached": false,
       "aggType": "",
       "arguments": {},
       "columnCustomDisplayInfos": {},
       "data": [
        [
         "Shrikant",
         "Vitthal",
         "Shejwal",
         21,
         "Pune",
         "15000"
        ],
        [
         "Sanjivanee",
         "Vitthal",
         "Shejwal",
         22,
         "Karad",
         "46000"
        ],
        [
         "Sagar",
         "Vitthal",
         "Shejwal",
         27,
         "Tripura",
         "105000"
        ],
        [
         "Sita",
         "Vitthal",
         "Shejwal",
         49,
         "Umbraj",
         null
        ],
        [
         "Vitthal",
         "Namdev",
         "Shejwal",
         55,
         "Umbraj",
         "17000"
        ]
       ],
       "datasetInfos": [],
       "dbfsResultPath": null,
       "isJsonSchema": true,
       "metadata": {},
       "overflow": false,
       "plotOptions": {
        "customPlotOptions": {},
        "displayType": "table",
        "pivotAggregation": null,
        "pivotColumns": null,
        "xColumns": null,
        "yColumns": null
       },
       "removedWidgets": [],
       "schema": [
        {
         "metadata": "{}",
         "name": "first_name",
         "type": "\"string\""
        },
        {
         "metadata": "{}",
         "name": "middle_name",
         "type": "\"string\""
        },
        {
         "metadata": "{}",
         "name": "last_name",
         "type": "\"string\""
        },
        {
         "metadata": "{}",
         "name": "age",
         "type": "\"integer\""
        },
        {
         "metadata": "{}",
         "name": "city",
         "type": "\"string\""
        },
        {
         "metadata": "{}",
         "name": "salary",
         "type": "\"string\""
        }
       ],
       "type": "table"
      }
     },
     "output_type": "display_data"
    }
   ],
   "source": [
    "df1.select('names.*','age','city','salary').display()"
   ]
  },
  {
   "cell_type": "code",
   "execution_count": 0,
   "metadata": {
    "application/vnd.databricks.v1+cell": {
     "cellMetadata": {},
     "inputWidgets": {},
     "nuid": "3a193fbd-4e9e-43e6-864b-53e919b9c809",
     "showTitle": false,
     "title": ""
    }
   },
   "outputs": [
    {
     "output_type": "display_data",
     "data": {
      "text/html": [
       "<style scoped>\n",
       "  .table-result-container {\n",
       "    max-height: 300px;\n",
       "    overflow: auto;\n",
       "  }\n",
       "  table, th, td {\n",
       "    border: 1px solid black;\n",
       "    border-collapse: collapse;\n",
       "  }\n",
       "  th, td {\n",
       "    padding: 5px;\n",
       "  }\n",
       "  th {\n",
       "    text-align: left;\n",
       "  }\n",
       "</style><div class='table-result-container'><table class='table-result'><thead style='background-color: white'><tr><th>names</th><th>Info</th></tr></thead><tbody><tr><td>List(Shrikant, Vitthal, Shejwal)</td><td>List(21, Pune, 15000, low)</td></tr><tr><td>List(Sanjivanee, Vitthal, Shejwal)</td><td>List(22, Karad, 46000, Medium)</td></tr><tr><td>List(Sagar, Vitthal, Shejwal)</td><td>List(27, Tripura, 105000, Medium)</td></tr><tr><td>List(Sita, Vitthal, Shejwal)</td><td>List(49, Umbraj, null, High)</td></tr><tr><td>List(Vitthal, Namdev, Shejwal)</td><td>List(55, Umbraj, 17000, low)</td></tr></tbody></table></div>"
      ]
     },
     "metadata": {
      "application/vnd.databricks.v1+output": {
       "addedWidgets": {},
       "aggData": [],
       "aggError": "",
       "aggOverflow": false,
       "aggSchema": [],
       "aggSeriesLimitReached": false,
       "aggType": "",
       "arguments": {},
       "columnCustomDisplayInfos": {},
       "data": [
        [
         [
          "Shrikant",
          "Vitthal",
          "Shejwal"
         ],
         [
          21,
          "Pune",
          "15000",
          "low"
         ]
        ],
        [
         [
          "Sanjivanee",
          "Vitthal",
          "Shejwal"
         ],
         [
          22,
          "Karad",
          "46000",
          "Medium"
         ]
        ],
        [
         [
          "Sagar",
          "Vitthal",
          "Shejwal"
         ],
         [
          27,
          "Tripura",
          "105000",
          "Medium"
         ]
        ],
        [
         [
          "Sita",
          "Vitthal",
          "Shejwal"
         ],
         [
          49,
          "Umbraj",
          null,
          "High"
         ]
        ],
        [
         [
          "Vitthal",
          "Namdev",
          "Shejwal"
         ],
         [
          55,
          "Umbraj",
          "17000",
          "low"
         ]
        ]
       ],
       "datasetInfos": [],
       "dbfsResultPath": null,
       "isJsonSchema": true,
       "metadata": {},
       "overflow": false,
       "plotOptions": {
        "customPlotOptions": {},
        "displayType": "table",
        "pivotAggregation": null,
        "pivotColumns": null,
        "xColumns": null,
        "yColumns": null
       },
       "removedWidgets": [],
       "schema": [
        {
         "metadata": "{}",
         "name": "names",
         "type": "{\"type\":\"struct\",\"fields\":[{\"name\":\"first_name\",\"type\":\"string\",\"nullable\":true,\"metadata\":{}},{\"name\":\"middle_name\",\"type\":\"string\",\"nullable\":true,\"metadata\":{}},{\"name\":\"last_name\",\"type\":\"string\",\"nullable\":true,\"metadata\":{}}]}"
        },
        {
         "metadata": "{}",
         "name": "Info",
         "type": "{\"type\":\"struct\",\"fields\":[{\"name\":\"age\",\"type\":\"integer\",\"nullable\":true,\"metadata\":{}},{\"name\":\"city\",\"type\":\"string\",\"nullable\":true,\"metadata\":{}},{\"name\":\"salary\",\"type\":\"string\",\"nullable\":true,\"metadata\":{}},{\"name\":\"salary_grade\",\"type\":\"string\",\"nullable\":false,\"metadata\":{}}]}"
        }
       ],
       "type": "table"
      }
     },
     "output_type": "display_data"
    }
   ],
   "source": [
    "df1.withColumn('Info', struct(col('age').alias('age'),\n",
    "                             col('city').alias('city'),\n",
    "                             col('salary').alias('salary'), when(col('salary')<=20000, 'low')\\\n",
    "                             .when(col('salary')>40000, 'Medium')\\\n",
    "                             .otherwise('High').alias('salary_grade'))).drop('age','city','salary').display()"
   ]
  },
  {
   "cell_type": "code",
   "execution_count": 0,
   "metadata": {
    "application/vnd.databricks.v1+cell": {
     "cellMetadata": {},
     "inputWidgets": {},
     "nuid": "f73f0780-6a69-4cf3-a950-e591c380d734",
     "showTitle": false,
     "title": ""
    }
   },
   "outputs": [
    {
     "output_type": "display_data",
     "data": {
      "text/html": [
       "<style scoped>\n",
       "  .table-result-container {\n",
       "    max-height: 300px;\n",
       "    overflow: auto;\n",
       "  }\n",
       "  table, th, td {\n",
       "    border: 1px solid black;\n",
       "    border-collapse: collapse;\n",
       "  }\n",
       "  th, td {\n",
       "    padding: 5px;\n",
       "  }\n",
       "  th {\n",
       "    text-align: left;\n",
       "  }\n",
       "</style><div class='table-result-container'><table class='table-result'><thead style='background-color: white'><tr><th>first_name</th><th>middle_name</th><th>last_name</th><th>age</th><th>city</th><th>salary</th><th>names</th></tr></thead><tbody><tr><td>Shrikant</td><td>Vitthal</td><td>Shejwal</td><td>21</td><td>Pune</td><td>15000</td><td>List(Shrikant, Vitthal, Shejwal)</td></tr><tr><td>Sanjivanee</td><td>Vitthal</td><td>Shejwal</td><td>22</td><td>Karad</td><td>46000</td><td>List(Sanjivanee, Vitthal, Shejwal)</td></tr><tr><td>Sagar</td><td>Vitthal</td><td>Shejwal</td><td>27</td><td>Tripura</td><td>105000</td><td>List(Sagar, Vitthal, Shejwal)</td></tr><tr><td>Sita</td><td>Vitthal</td><td>Shejwal</td><td>49</td><td>Umbraj</td><td>null</td><td>List(Sita, Vitthal, Shejwal)</td></tr><tr><td>Vitthal</td><td>Namdev</td><td>Shejwal</td><td>55</td><td>Umbraj</td><td>17000</td><td>List(Vitthal, Namdev, Shejwal)</td></tr></tbody></table></div>"
      ]
     },
     "metadata": {
      "application/vnd.databricks.v1+output": {
       "addedWidgets": {},
       "aggData": [],
       "aggError": "",
       "aggOverflow": false,
       "aggSchema": [],
       "aggSeriesLimitReached": false,
       "aggType": "",
       "arguments": {},
       "columnCustomDisplayInfos": {},
       "data": [
        [
         "Shrikant",
         "Vitthal",
         "Shejwal",
         21,
         "Pune",
         15000,
         [
          "Shrikant",
          "Vitthal",
          "Shejwal"
         ]
        ],
        [
         "Sanjivanee",
         "Vitthal",
         "Shejwal",
         22,
         "Karad",
         46000,
         [
          "Sanjivanee",
          "Vitthal",
          "Shejwal"
         ]
        ],
        [
         "Sagar",
         "Vitthal",
         "Shejwal",
         27,
         "Tripura",
         105000,
         [
          "Sagar",
          "Vitthal",
          "Shejwal"
         ]
        ],
        [
         "Sita",
         "Vitthal",
         "Shejwal",
         49,
         "Umbraj",
         null,
         [
          "Sita",
          "Vitthal",
          "Shejwal"
         ]
        ],
        [
         "Vitthal",
         "Namdev",
         "Shejwal",
         55,
         "Umbraj",
         17000,
         [
          "Vitthal",
          "Namdev",
          "Shejwal"
         ]
        ]
       ],
       "datasetInfos": [],
       "dbfsResultPath": null,
       "isJsonSchema": true,
       "metadata": {},
       "overflow": false,
       "plotOptions": {
        "customPlotOptions": {},
        "displayType": "table",
        "pivotAggregation": null,
        "pivotColumns": null,
        "xColumns": null,
        "yColumns": null
       },
       "removedWidgets": [],
       "schema": [
        {
         "metadata": "{}",
         "name": "first_name",
         "type": "\"string\""
        },
        {
         "metadata": "{}",
         "name": "middle_name",
         "type": "\"string\""
        },
        {
         "metadata": "{}",
         "name": "last_name",
         "type": "\"string\""
        },
        {
         "metadata": "{}",
         "name": "age",
         "type": "\"long\""
        },
        {
         "metadata": "{}",
         "name": "city",
         "type": "\"string\""
        },
        {
         "metadata": "{}",
         "name": "salary",
         "type": "\"long\""
        },
        {
         "metadata": "{}",
         "name": "names",
         "type": "{\"type\":\"struct\",\"fields\":[{\"name\":\"first_name\",\"type\":\"string\",\"nullable\":true,\"metadata\":{}},{\"name\":\"middle_name\",\"type\":\"string\",\"nullable\":true,\"metadata\":{}},{\"name\":\"last_name\",\"type\":\"string\",\"nullable\":true,\"metadata\":{}}]}"
        }
       ],
       "type": "table"
      }
     },
     "output_type": "display_data"
    }
   ],
   "source": [
    "df.withColumn('names', struct(col('first_name').alias('first_name'),\n",
    "                             col('middle_name').alias('middle_name'),\n",
    "                             col('last_name').alias('last_name'))).display()"
   ]
  },
  {
   "cell_type": "code",
   "execution_count": 0,
   "metadata": {
    "application/vnd.databricks.v1+cell": {
     "cellMetadata": {},
     "inputWidgets": {},
     "nuid": "4f735fc2-b5fe-44b5-bd0e-ab7e27d47c4e",
     "showTitle": false,
     "title": ""
    }
   },
   "outputs": [
    {
     "output_type": "display_data",
     "data": {
      "text/html": [
       "<style scoped>\n",
       "  .table-result-container {\n",
       "    max-height: 300px;\n",
       "    overflow: auto;\n",
       "  }\n",
       "  table, th, td {\n",
       "    border: 1px solid black;\n",
       "    border-collapse: collapse;\n",
       "  }\n",
       "  th, td {\n",
       "    padding: 5px;\n",
       "  }\n",
       "  th {\n",
       "    text-align: left;\n",
       "  }\n",
       "</style><div class='table-result-container'><table class='table-result'><thead style='background-color: white'><tr><th>names</th><th>age</th><th>city</th><th>salary</th></tr></thead><tbody><tr><td>List(Shrikant, Vitthal, Shejwal)</td><td>21</td><td>Pune</td><td>15000</td></tr><tr><td>List(Sanjivanee, Vitthal, Shejwal)</td><td>22</td><td>Karad</td><td>46000</td></tr><tr><td>List(Sagar, Vitthal, Shejwal)</td><td>27</td><td>Tripura</td><td>105000</td></tr><tr><td>List(Sita, Vitthal, Shejwal)</td><td>49</td><td>Umbraj</td><td>null</td></tr><tr><td>List(Vitthal, Namdev, Shejwal)</td><td>55</td><td>Umbraj</td><td>17000</td></tr></tbody></table></div>"
      ]
     },
     "metadata": {
      "application/vnd.databricks.v1+output": {
       "addedWidgets": {},
       "aggData": [],
       "aggError": "",
       "aggOverflow": false,
       "aggSchema": [],
       "aggSeriesLimitReached": false,
       "aggType": "",
       "arguments": {},
       "columnCustomDisplayInfos": {},
       "data": [
        [
         [
          "Shrikant",
          "Vitthal",
          "Shejwal"
         ],
         21,
         "Pune",
         "15000"
        ],
        [
         [
          "Sanjivanee",
          "Vitthal",
          "Shejwal"
         ],
         22,
         "Karad",
         "46000"
        ],
        [
         [
          "Sagar",
          "Vitthal",
          "Shejwal"
         ],
         27,
         "Tripura",
         "105000"
        ],
        [
         [
          "Sita",
          "Vitthal",
          "Shejwal"
         ],
         49,
         "Umbraj",
         null
        ],
        [
         [
          "Vitthal",
          "Namdev",
          "Shejwal"
         ],
         55,
         "Umbraj",
         "17000"
        ]
       ],
       "datasetInfos": [],
       "dbfsResultPath": null,
       "isJsonSchema": true,
       "metadata": {},
       "overflow": false,
       "plotOptions": {
        "customPlotOptions": {},
        "displayType": "table",
        "pivotAggregation": null,
        "pivotColumns": null,
        "xColumns": null,
        "yColumns": null
       },
       "removedWidgets": [],
       "schema": [
        {
         "metadata": "{}",
         "name": "names",
         "type": "{\"type\":\"struct\",\"fields\":[{\"name\":\"first_name\",\"type\":\"string\",\"nullable\":true,\"metadata\":{}},{\"name\":\"middle_name\",\"type\":\"string\",\"nullable\":true,\"metadata\":{}},{\"name\":\"last_name\",\"type\":\"string\",\"nullable\":true,\"metadata\":{}}]}"
        },
        {
         "metadata": "{}",
         "name": "age",
         "type": "\"integer\""
        },
        {
         "metadata": "{}",
         "name": "city",
         "type": "\"string\""
        },
        {
         "metadata": "{}",
         "name": "salary",
         "type": "\"string\""
        }
       ],
       "type": "table"
      }
     },
     "output_type": "display_data"
    }
   ],
   "source": [
    "df1.display()"
   ]
  },
  {
   "cell_type": "code",
   "execution_count": 0,
   "metadata": {
    "application/vnd.databricks.v1+cell": {
     "cellMetadata": {},
     "inputWidgets": {},
     "nuid": "357c7aac-7d9f-4954-bf0b-c26bf01d9683",
     "showTitle": false,
     "title": ""
    }
   },
   "outputs": [
    {
     "output_type": "display_data",
     "data": {
      "text/html": [
       "<style scoped>\n",
       "  .table-result-container {\n",
       "    max-height: 300px;\n",
       "    overflow: auto;\n",
       "  }\n",
       "  table, th, td {\n",
       "    border: 1px solid black;\n",
       "    border-collapse: collapse;\n",
       "  }\n",
       "  th, td {\n",
       "    padding: 5px;\n",
       "  }\n",
       "  th {\n",
       "    text-align: left;\n",
       "  }\n",
       "</style><div class='table-result-container'><table class='table-result'><thead style='background-color: white'><tr><th>first_name</th><th>middle_name</th><th>last_name</th><th>age</th><th>city</th><th>salary</th></tr></thead><tbody><tr><td>Shrikant</td><td>Vitthal</td><td>Shejwal</td><td>21</td><td>Pune</td><td>15000</td></tr><tr><td>Sanjivanee</td><td>Vitthal</td><td>Shejwal</td><td>22</td><td>Karad</td><td>46000</td></tr><tr><td>Sagar</td><td>Vitthal</td><td>Shejwal</td><td>27</td><td>Tripura</td><td>105000</td></tr><tr><td>Sita</td><td>Vitthal</td><td>Shejwal</td><td>49</td><td>Umbraj</td><td>null</td></tr><tr><td>Vitthal</td><td>Namdev</td><td>Shejwal</td><td>55</td><td>Umbraj</td><td>17000</td></tr></tbody></table></div>"
      ]
     },
     "metadata": {
      "application/vnd.databricks.v1+output": {
       "addedWidgets": {},
       "aggData": [],
       "aggError": "",
       "aggOverflow": false,
       "aggSchema": [],
       "aggSeriesLimitReached": false,
       "aggType": "",
       "arguments": {},
       "columnCustomDisplayInfos": {},
       "data": [
        [
         "Shrikant",
         "Vitthal",
         "Shejwal",
         21,
         "Pune",
         "15000"
        ],
        [
         "Sanjivanee",
         "Vitthal",
         "Shejwal",
         22,
         "Karad",
         "46000"
        ],
        [
         "Sagar",
         "Vitthal",
         "Shejwal",
         27,
         "Tripura",
         "105000"
        ],
        [
         "Sita",
         "Vitthal",
         "Shejwal",
         49,
         "Umbraj",
         null
        ],
        [
         "Vitthal",
         "Namdev",
         "Shejwal",
         55,
         "Umbraj",
         "17000"
        ]
       ],
       "datasetInfos": [],
       "dbfsResultPath": null,
       "isJsonSchema": true,
       "metadata": {},
       "overflow": false,
       "plotOptions": {
        "customPlotOptions": {},
        "displayType": "table",
        "pivotAggregation": null,
        "pivotColumns": null,
        "xColumns": null,
        "yColumns": null
       },
       "removedWidgets": [],
       "schema": [
        {
         "metadata": "{}",
         "name": "first_name",
         "type": "\"string\""
        },
        {
         "metadata": "{}",
         "name": "middle_name",
         "type": "\"string\""
        },
        {
         "metadata": "{}",
         "name": "last_name",
         "type": "\"string\""
        },
        {
         "metadata": "{}",
         "name": "age",
         "type": "\"integer\""
        },
        {
         "metadata": "{}",
         "name": "city",
         "type": "\"string\""
        },
        {
         "metadata": "{}",
         "name": "salary",
         "type": "\"string\""
        }
       ],
       "type": "table"
      }
     },
     "output_type": "display_data"
    }
   ],
   "source": [
    "df1.select('names.*','age','city','salary').display()"
   ]
  },
  {
   "cell_type": "code",
   "execution_count": 0,
   "metadata": {
    "application/vnd.databricks.v1+cell": {
     "cellMetadata": {},
     "inputWidgets": {},
     "nuid": "5ba598d6-e0ff-4081-8852-e0692d6ac020",
     "showTitle": true,
     "title": "ArrayType()"
    }
   },
   "outputs": [
    {
     "output_type": "display_data",
     "data": {
      "text/html": [
       "<style scoped>\n",
       "  .table-result-container {\n",
       "    max-height: 300px;\n",
       "    overflow: auto;\n",
       "  }\n",
       "  table, th, td {\n",
       "    border: 1px solid black;\n",
       "    border-collapse: collapse;\n",
       "  }\n",
       "  th, td {\n",
       "    padding: 5px;\n",
       "  }\n",
       "  th {\n",
       "    text-align: left;\n",
       "  }\n",
       "</style><div class='table-result-container'><table class='table-result'><thead style='background-color: white'><tr><th>names</th><th>languages</th><th>age</th><th>city</th><th>salary</th></tr></thead><tbody><tr><td>Shrikant, Vitthal, Shejwal</td><td>List(english, marathi, hindi, german)</td><td>21</td><td>Pune</td><td>15000</td></tr><tr><td>Sanjivanee, Vitthal, Shejwal</td><td>List(english, marathi, hindi)</td><td>22</td><td>Karad</td><td>46000</td></tr><tr><td>Sagar, Vitthal, Shejwal</td><td>List(english, marathi, hindi)</td><td>27</td><td>Tripura</td><td>105000</td></tr><tr><td>Sita, Vitthal, Shejwal</td><td>List(english, marathi)</td><td>49</td><td>Umbraj</td><td>null</td></tr><tr><td>Vitthal, Namdev, Shejwal</td><td>List(english, marathi, hindi)</td><td>55</td><td>Umbraj</td><td>17000</td></tr></tbody></table></div>"
      ]
     },
     "metadata": {
      "application/vnd.databricks.v1+output": {
       "addedWidgets": {},
       "aggData": [],
       "aggError": "",
       "aggOverflow": false,
       "aggSchema": [],
       "aggSeriesLimitReached": false,
       "aggType": "",
       "arguments": {},
       "columnCustomDisplayInfos": {},
       "data": [
        [
         "Shrikant, Vitthal, Shejwal",
         [
          "english",
          "marathi",
          "hindi",
          "german"
         ],
         21,
         "Pune",
         15000
        ],
        [
         "Sanjivanee, Vitthal, Shejwal",
         [
          "english",
          "marathi",
          "hindi"
         ],
         22,
         "Karad",
         46000
        ],
        [
         "Sagar, Vitthal, Shejwal",
         [
          "english",
          "marathi",
          "hindi"
         ],
         27,
         "Tripura",
         105000
        ],
        [
         "Sita, Vitthal, Shejwal",
         [
          "english",
          "marathi"
         ],
         49,
         "Umbraj",
         null
        ],
        [
         "Vitthal, Namdev, Shejwal",
         [
          "english",
          "marathi",
          "hindi"
         ],
         55,
         "Umbraj",
         17000
        ]
       ],
       "datasetInfos": [],
       "dbfsResultPath": null,
       "isJsonSchema": true,
       "metadata": {},
       "overflow": false,
       "plotOptions": {
        "customPlotOptions": {},
        "displayType": "table",
        "pivotAggregation": null,
        "pivotColumns": null,
        "xColumns": null,
        "yColumns": null
       },
       "removedWidgets": [],
       "schema": [
        {
         "metadata": "{}",
         "name": "names",
         "type": "\"string\""
        },
        {
         "metadata": "{}",
         "name": "languages",
         "type": "{\"type\":\"array\",\"elementType\":\"string\",\"containsNull\":true}"
        },
        {
         "metadata": "{}",
         "name": "age",
         "type": "\"integer\""
        },
        {
         "metadata": "{}",
         "name": "city",
         "type": "\"string\""
        },
        {
         "metadata": "{}",
         "name": "salary",
         "type": "\"integer\""
        }
       ],
       "type": "table"
      }
     },
     "output_type": "display_data"
    }
   ],
   "source": [
    "data = [('Shrikant, Vitthal, Shejwal',['english','marathi','hindi','german'],21, 'Pune', 15000),\n",
    "       ('Sanjivanee, Vitthal, Shejwal',['english','marathi','hindi'], 22, 'Karad', 46000),\n",
    "       ('Sagar, Vitthal, Shejwal',['english','marathi','hindi'], 27, 'Tripura', 105000),\n",
    "       ('Sita, Vitthal, Shejwal',['english','marathi'], 49, 'Umbraj', None),\n",
    "       ('Vitthal, Namdev, Shejwal',['english','marathi','hindi'], 55, 'Umbraj', 17000)]\n",
    "\n",
    "schema = StructType([\\\n",
    "                    StructField('names', StringType(), True),\n",
    "                    StructField('languages', ArrayType(StringType(), True)),\n",
    "                    StructField('age', IntegerType(), True),\n",
    "                    StructField('city', StringType(), True),\n",
    "                    StructField('salary', IntegerType(), True)\\\n",
    "                    ])\n",
    "\n",
    "df3 = spark.createDataFrame(data=data, schema=schema)\n",
    "df3.display()"
   ]
  },
  {
   "cell_type": "code",
   "execution_count": 0,
   "metadata": {
    "application/vnd.databricks.v1+cell": {
     "cellMetadata": {},
     "inputWidgets": {},
     "nuid": "322df3f9-a8d5-4115-b1d6-187744d01713",
     "showTitle": false,
     "title": ""
    }
   },
   "outputs": [
    {
     "output_type": "display_data",
     "data": {
      "text/html": [
       "<style scoped>\n",
       "  .table-result-container {\n",
       "    max-height: 300px;\n",
       "    overflow: auto;\n",
       "  }\n",
       "  table, th, td {\n",
       "    border: 1px solid black;\n",
       "    border-collapse: collapse;\n",
       "  }\n",
       "  th, td {\n",
       "    padding: 5px;\n",
       "  }\n",
       "  th {\n",
       "    text-align: left;\n",
       "  }\n",
       "</style><div class='table-result-container'><table class='table-result'><thead style='background-color: white'><tr><th>Names</th><th>languages</th><th>age</th><th>city</th><th>salary</th></tr></thead><tbody><tr><td>List(Shrikant,  Vitthal,  Shejwal)</td><td>List(english, marathi, hindi, german)</td><td>21</td><td>Pune</td><td>15000</td></tr><tr><td>List(Sanjivanee,  Vitthal,  Shejwal)</td><td>List(english, marathi, hindi)</td><td>22</td><td>Karad</td><td>46000</td></tr><tr><td>List(Sagar,  Vitthal,  Shejwal)</td><td>List(english, marathi, hindi)</td><td>27</td><td>Tripura</td><td>105000</td></tr><tr><td>List(Sita,  Vitthal,  Shejwal)</td><td>List(english, marathi)</td><td>49</td><td>Umbraj</td><td>null</td></tr><tr><td>List(Vitthal,  Namdev,  Shejwal)</td><td>List(english, marathi, hindi)</td><td>55</td><td>Umbraj</td><td>17000</td></tr></tbody></table></div>"
      ]
     },
     "metadata": {
      "application/vnd.databricks.v1+output": {
       "addedWidgets": {},
       "aggData": [],
       "aggError": "",
       "aggOverflow": false,
       "aggSchema": [],
       "aggSeriesLimitReached": false,
       "aggType": "",
       "arguments": {},
       "columnCustomDisplayInfos": {},
       "data": [
        [
         [
          "Shrikant",
          " Vitthal",
          " Shejwal"
         ],
         [
          "english",
          "marathi",
          "hindi",
          "german"
         ],
         21,
         "Pune",
         15000
        ],
        [
         [
          "Sanjivanee",
          " Vitthal",
          " Shejwal"
         ],
         [
          "english",
          "marathi",
          "hindi"
         ],
         22,
         "Karad",
         46000
        ],
        [
         [
          "Sagar",
          " Vitthal",
          " Shejwal"
         ],
         [
          "english",
          "marathi",
          "hindi"
         ],
         27,
         "Tripura",
         105000
        ],
        [
         [
          "Sita",
          " Vitthal",
          " Shejwal"
         ],
         [
          "english",
          "marathi"
         ],
         49,
         "Umbraj",
         null
        ],
        [
         [
          "Vitthal",
          " Namdev",
          " Shejwal"
         ],
         [
          "english",
          "marathi",
          "hindi"
         ],
         55,
         "Umbraj",
         17000
        ]
       ],
       "datasetInfos": [],
       "dbfsResultPath": null,
       "isJsonSchema": true,
       "metadata": {},
       "overflow": false,
       "plotOptions": {
        "customPlotOptions": {},
        "displayType": "table",
        "pivotAggregation": null,
        "pivotColumns": null,
        "xColumns": null,
        "yColumns": null
       },
       "removedWidgets": [],
       "schema": [
        {
         "metadata": "{}",
         "name": "Names",
         "type": "{\"type\":\"array\",\"elementType\":\"string\",\"containsNull\":true}"
        },
        {
         "metadata": "{}",
         "name": "languages",
         "type": "{\"type\":\"array\",\"elementType\":\"string\",\"containsNull\":true}"
        },
        {
         "metadata": "{}",
         "name": "age",
         "type": "\"integer\""
        },
        {
         "metadata": "{}",
         "name": "city",
         "type": "\"string\""
        },
        {
         "metadata": "{}",
         "name": "salary",
         "type": "\"integer\""
        }
       ],
       "type": "table"
      }
     },
     "output_type": "display_data"
    }
   ],
   "source": [
    "df4 = df3.select(split('names',',').alias('Names'), 'languages', 'age', 'city', 'salary')\n",
    "df4.display()"
   ]
  },
  {
   "cell_type": "code",
   "execution_count": 0,
   "metadata": {
    "application/vnd.databricks.v1+cell": {
     "cellMetadata": {},
     "inputWidgets": {},
     "nuid": "4ccd0ae3-0f30-4b94-acb5-39d2ecebf43b",
     "showTitle": false,
     "title": ""
    }
   },
   "outputs": [
    {
     "output_type": "display_data",
     "data": {
      "text/html": [
       "<style scoped>\n",
       "  .table-result-container {\n",
       "    max-height: 300px;\n",
       "    overflow: auto;\n",
       "  }\n",
       "  table, th, td {\n",
       "    border: 1px solid black;\n",
       "    border-collapse: collapse;\n",
       "  }\n",
       "  th, td {\n",
       "    padding: 5px;\n",
       "  }\n",
       "  th {\n",
       "    text-align: left;\n",
       "  }\n",
       "</style><div class='table-result-container'><table class='table-result'><thead style='background-color: white'><tr><th>Names</th><th>languages</th><th>Info</th></tr></thead><tbody><tr><td>List(Shrikant,  Vitthal,  Shejwal)</td><td>List(english, marathi, hindi, german)</td><td>List(21, Pune, 15000)</td></tr><tr><td>List(Sanjivanee,  Vitthal,  Shejwal)</td><td>List(english, marathi, hindi)</td><td>List(22, Karad, 46000)</td></tr><tr><td>List(Sagar,  Vitthal,  Shejwal)</td><td>List(english, marathi, hindi)</td><td>List(27, Tripura, 105000)</td></tr><tr><td>List(Sita,  Vitthal,  Shejwal)</td><td>List(english, marathi)</td><td>List(49, Umbraj, null)</td></tr><tr><td>List(Vitthal,  Namdev,  Shejwal)</td><td>List(english, marathi, hindi)</td><td>List(55, Umbraj, 17000)</td></tr></tbody></table></div>"
      ]
     },
     "metadata": {
      "application/vnd.databricks.v1+output": {
       "addedWidgets": {},
       "aggData": [],
       "aggError": "",
       "aggOverflow": false,
       "aggSchema": [],
       "aggSeriesLimitReached": false,
       "aggType": "",
       "arguments": {},
       "columnCustomDisplayInfos": {},
       "data": [
        [
         [
          "Shrikant",
          " Vitthal",
          " Shejwal"
         ],
         [
          "english",
          "marathi",
          "hindi",
          "german"
         ],
         [
          "21",
          "Pune",
          "15000"
         ]
        ],
        [
         [
          "Sanjivanee",
          " Vitthal",
          " Shejwal"
         ],
         [
          "english",
          "marathi",
          "hindi"
         ],
         [
          "22",
          "Karad",
          "46000"
         ]
        ],
        [
         [
          "Sagar",
          " Vitthal",
          " Shejwal"
         ],
         [
          "english",
          "marathi",
          "hindi"
         ],
         [
          "27",
          "Tripura",
          "105000"
         ]
        ],
        [
         [
          "Sita",
          " Vitthal",
          " Shejwal"
         ],
         [
          "english",
          "marathi"
         ],
         [
          "49",
          "Umbraj",
          null
         ]
        ],
        [
         [
          "Vitthal",
          " Namdev",
          " Shejwal"
         ],
         [
          "english",
          "marathi",
          "hindi"
         ],
         [
          "55",
          "Umbraj",
          "17000"
         ]
        ]
       ],
       "datasetInfos": [],
       "dbfsResultPath": null,
       "isJsonSchema": true,
       "metadata": {},
       "overflow": false,
       "plotOptions": {
        "customPlotOptions": {},
        "displayType": "table",
        "pivotAggregation": null,
        "pivotColumns": null,
        "xColumns": null,
        "yColumns": null
       },
       "removedWidgets": [],
       "schema": [
        {
         "metadata": "{}",
         "name": "Names",
         "type": "{\"type\":\"array\",\"elementType\":\"string\",\"containsNull\":true}"
        },
        {
         "metadata": "{}",
         "name": "languages",
         "type": "{\"type\":\"array\",\"elementType\":\"string\",\"containsNull\":true}"
        },
        {
         "metadata": "{}",
         "name": "Info",
         "type": "{\"type\":\"array\",\"elementType\":\"string\",\"containsNull\":true}"
        }
       ],
       "type": "table"
      }
     },
     "output_type": "display_data"
    }
   ],
   "source": [
    "df5 = df4.withColumn('Info', array(col('age'), col('city'), col('salary'))).drop('age', 'city', 'salary')\n",
    "df5.display()"
   ]
  },
  {
   "cell_type": "code",
   "execution_count": 0,
   "metadata": {
    "application/vnd.databricks.v1+cell": {
     "cellMetadata": {},
     "inputWidgets": {},
     "nuid": "98ce2761-da9f-49d0-aee7-0d03ff290301",
     "showTitle": true,
     "title": "MapType()"
    }
   },
   "outputs": [
    {
     "output_type": "display_data",
     "data": {
      "text/html": [
       "<style scoped>\n",
       "  .table-result-container {\n",
       "    max-height: 300px;\n",
       "    overflow: auto;\n",
       "  }\n",
       "  table, th, td {\n",
       "    border: 1px solid black;\n",
       "    border-collapse: collapse;\n",
       "  }\n",
       "  th, td {\n",
       "    padding: 5px;\n",
       "  }\n",
       "  th {\n",
       "    text-align: left;\n",
       "  }\n",
       "</style><div class='table-result-container'><table class='table-result'><thead style='background-color: white'><tr><th>name</th><th>info</th></tr></thead><tbody><tr><td>Shrikant</td><td>Map(salary -> 15000, age -> 21)</td></tr><tr><td>Sagar</td><td>Map(salary -> 100000, age -> 27)</td></tr></tbody></table></div>"
      ]
     },
     "metadata": {
      "application/vnd.databricks.v1+output": {
       "addedWidgets": {},
       "aggData": [],
       "aggError": "",
       "aggOverflow": false,
       "aggSchema": [],
       "aggSeriesLimitReached": false,
       "aggType": "",
       "arguments": {},
       "columnCustomDisplayInfos": {},
       "data": [
        [
         "Shrikant",
         {
          "age": 21,
          "salary": 15000
         }
        ],
        [
         "Sagar",
         {
          "age": 27,
          "salary": 100000
         }
        ]
       ],
       "datasetInfos": [],
       "dbfsResultPath": null,
       "isJsonSchema": true,
       "metadata": {},
       "overflow": false,
       "plotOptions": {
        "customPlotOptions": {},
        "displayType": "table",
        "pivotAggregation": null,
        "pivotColumns": null,
        "xColumns": null,
        "yColumns": null
       },
       "removedWidgets": [],
       "schema": [
        {
         "metadata": "{}",
         "name": "name",
         "type": "\"string\""
        },
        {
         "metadata": "{}",
         "name": "info",
         "type": "{\"type\":\"map\",\"keyType\":\"string\",\"valueType\":\"integer\",\"valueContainsNull\":true}"
        }
       ],
       "type": "table"
      }
     },
     "output_type": "display_data"
    }
   ],
   "source": [
    "schema = StructType([\\\n",
    "                    StructField('name', StringType(), True),\n",
    "                   StructField('info', MapType(StringType(), IntegerType()), True),\n",
    "                   ])\n",
    "data = [('Shrikant', {'age':21, 'salary':15000}),\n",
    "       ('Sagar', {'age':27, 'salary':100000})]\n",
    "df6 = spark.createDataFrame(data=data, schema=schema)\n",
    "df6.display()"
   ]
  },
  {
   "cell_type": "code",
   "execution_count": 0,
   "metadata": {
    "application/vnd.databricks.v1+cell": {
     "cellMetadata": {},
     "inputWidgets": {},
     "nuid": "fb65d80e-3013-458e-ae2f-d01344b64051",
     "showTitle": false,
     "title": ""
    }
   },
   "outputs": [
    {
     "output_type": "display_data",
     "data": {
      "text/html": [
       "<style scoped>\n",
       "  .table-result-container {\n",
       "    max-height: 300px;\n",
       "    overflow: auto;\n",
       "  }\n",
       "  table, th, td {\n",
       "    border: 1px solid black;\n",
       "    border-collapse: collapse;\n",
       "  }\n",
       "  th, td {\n",
       "    padding: 5px;\n",
       "  }\n",
       "  th {\n",
       "    text-align: left;\n",
       "  }\n",
       "</style><div class='table-result-container'><table class='table-result'><thead style='background-color: white'><tr><th>name</th><th>key</th><th>value</th></tr></thead><tbody><tr><td>Shrikant</td><td>salary</td><td>15000</td></tr><tr><td>Shrikant</td><td>age</td><td>21</td></tr><tr><td>Sagar</td><td>salary</td><td>100000</td></tr><tr><td>Sagar</td><td>age</td><td>27</td></tr></tbody></table></div>"
      ]
     },
     "metadata": {
      "application/vnd.databricks.v1+output": {
       "addedWidgets": {},
       "aggData": [],
       "aggError": "",
       "aggOverflow": false,
       "aggSchema": [],
       "aggSeriesLimitReached": false,
       "aggType": "",
       "arguments": {},
       "columnCustomDisplayInfos": {},
       "data": [
        [
         "Shrikant",
         "salary",
         15000
        ],
        [
         "Shrikant",
         "age",
         21
        ],
        [
         "Sagar",
         "salary",
         100000
        ],
        [
         "Sagar",
         "age",
         27
        ]
       ],
       "datasetInfos": [],
       "dbfsResultPath": null,
       "isJsonSchema": true,
       "metadata": {},
       "overflow": false,
       "plotOptions": {
        "customPlotOptions": {},
        "displayType": "table",
        "pivotAggregation": null,
        "pivotColumns": null,
        "xColumns": null,
        "yColumns": null
       },
       "removedWidgets": [],
       "schema": [
        {
         "metadata": "{}",
         "name": "name",
         "type": "\"string\""
        },
        {
         "metadata": "{}",
         "name": "key",
         "type": "\"string\""
        },
        {
         "metadata": "{}",
         "name": "value",
         "type": "\"integer\""
        }
       ],
       "type": "table"
      }
     },
     "output_type": "display_data"
    }
   ],
   "source": [
    "df6 = df6.select('name', explode('info'))\n",
    "df6.display()"
   ]
  },
  {
   "cell_type": "code",
   "execution_count": 0,
   "metadata": {
    "application/vnd.databricks.v1+cell": {
     "cellMetadata": {},
     "inputWidgets": {},
     "nuid": "427932f6-db80-46e3-8a6d-4fd745237429",
     "showTitle": false,
     "title": ""
    }
   },
   "outputs": [
    {
     "output_type": "display_data",
     "data": {
      "text/html": [
       "<style scoped>\n",
       "  .table-result-container {\n",
       "    max-height: 300px;\n",
       "    overflow: auto;\n",
       "  }\n",
       "  table, th, td {\n",
       "    border: 1px solid black;\n",
       "    border-collapse: collapse;\n",
       "  }\n",
       "  th, td {\n",
       "    padding: 5px;\n",
       "  }\n",
       "  th {\n",
       "    text-align: left;\n",
       "  }\n",
       "</style><div class='table-result-container'><table class='table-result'><thead style='background-color: white'><tr><th>name</th><th>age</th><th>salary</th></tr></thead><tbody><tr><td>Shrikant</td><td>21</td><td>15000</td></tr><tr><td>Sagar</td><td>27</td><td>100000</td></tr></tbody></table></div>"
      ]
     },
     "metadata": {
      "application/vnd.databricks.v1+output": {
       "addedWidgets": {},
       "aggData": [],
       "aggError": "",
       "aggOverflow": false,
       "aggSchema": [],
       "aggSeriesLimitReached": false,
       "aggType": "",
       "arguments": {},
       "columnCustomDisplayInfos": {},
       "data": [
        [
         "Shrikant",
         21,
         15000
        ],
        [
         "Sagar",
         27,
         100000
        ]
       ],
       "datasetInfos": [],
       "dbfsResultPath": null,
       "isJsonSchema": true,
       "metadata": {},
       "overflow": false,
       "plotOptions": {
        "customPlotOptions": {},
        "displayType": "table",
        "pivotAggregation": null,
        "pivotColumns": null,
        "xColumns": null,
        "yColumns": null
       },
       "removedWidgets": [],
       "schema": [
        {
         "metadata": "{}",
         "name": "name",
         "type": "\"string\""
        },
        {
         "metadata": "{}",
         "name": "age",
         "type": "\"long\""
        },
        {
         "metadata": "{}",
         "name": "salary",
         "type": "\"long\""
        }
       ],
       "type": "table"
      }
     },
     "output_type": "display_data"
    }
   ],
   "source": [
    "df6 = df6.groupBy('name').pivot('key').sum('value')\n",
    "df6.display()"
   ]
  },
  {
   "cell_type": "code",
   "execution_count": 0,
   "metadata": {
    "application/vnd.databricks.v1+cell": {
     "cellMetadata": {},
     "inputWidgets": {},
     "nuid": "45e60136-c116-485d-8ac0-666330477a02",
     "showTitle": false,
     "title": ""
    }
   },
   "outputs": [
    {
     "output_type": "display_data",
     "data": {
      "text/html": [
       "<style scoped>\n",
       "  .table-result-container {\n",
       "    max-height: 300px;\n",
       "    overflow: auto;\n",
       "  }\n",
       "  table, th, td {\n",
       "    border: 1px solid black;\n",
       "    border-collapse: collapse;\n",
       "  }\n",
       "  th, td {\n",
       "    padding: 5px;\n",
       "  }\n",
       "  th {\n",
       "    text-align: left;\n",
       "  }\n",
       "</style><div class='table-result-container'><table class='table-result'><thead style='background-color: white'><tr><th>name</th><th>age</th><th>salary</th><th>info</th></tr></thead><tbody><tr><td>Shrikant</td><td>21</td><td>15000</td><td>List(Shrikant, 21, 15000)</td></tr><tr><td>Sagar</td><td>27</td><td>100000</td><td>List(Sagar, 27, 100000)</td></tr></tbody></table></div>"
      ]
     },
     "metadata": {
      "application/vnd.databricks.v1+output": {
       "addedWidgets": {},
       "aggData": [],
       "aggError": "",
       "aggOverflow": false,
       "aggSchema": [],
       "aggSeriesLimitReached": false,
       "aggType": "",
       "arguments": {},
       "columnCustomDisplayInfos": {},
       "data": [
        [
         "Shrikant",
         21,
         15000,
         [
          "Shrikant",
          "21",
          "15000"
         ]
        ],
        [
         "Sagar",
         27,
         100000,
         [
          "Sagar",
          "27",
          "100000"
         ]
        ]
       ],
       "datasetInfos": [],
       "dbfsResultPath": null,
       "isJsonSchema": true,
       "metadata": {},
       "overflow": false,
       "plotOptions": {
        "customPlotOptions": {},
        "displayType": "table",
        "pivotAggregation": null,
        "pivotColumns": null,
        "xColumns": null,
        "yColumns": null
       },
       "removedWidgets": [],
       "schema": [
        {
         "metadata": "{}",
         "name": "name",
         "type": "\"string\""
        },
        {
         "metadata": "{}",
         "name": "age",
         "type": "\"long\""
        },
        {
         "metadata": "{}",
         "name": "salary",
         "type": "\"long\""
        },
        {
         "metadata": "{}",
         "name": "info",
         "type": "{\"type\":\"array\",\"elementType\":\"string\",\"containsNull\":true}"
        }
       ],
       "type": "table"
      }
     },
     "output_type": "display_data"
    }
   ],
   "source": [
    "df6.withColumn('info', array(col('name'), col('age'), col('salary'))).display()"
   ]
  },
  {
   "cell_type": "code",
   "execution_count": 0,
   "metadata": {
    "application/vnd.databricks.v1+cell": {
     "cellMetadata": {},
     "inputWidgets": {},
     "nuid": "2647fb19-5eed-416b-832f-fa963e4a724f",
     "showTitle": false,
     "title": ""
    }
   },
   "outputs": [],
   "source": []
  }
 ],
 "metadata": {
  "application/vnd.databricks.v1+notebook": {
   "dashboards": [],
   "language": "python",
   "notebookMetadata": {
    "pythonIndentUnit": 2
   },
   "notebookName": "StructType & StructField",
   "widgets": {}
  }
 },
 "nbformat": 4,
 "nbformat_minor": 0
}
