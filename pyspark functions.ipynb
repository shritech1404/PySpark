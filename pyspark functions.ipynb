{
 "cells": [
  {
   "cell_type": "code",
   "execution_count": 0,
   "metadata": {
    "application/vnd.databricks.v1+cell": {
     "cellMetadata": {},
     "inputWidgets": {},
     "nuid": "85f97422-167f-4e36-afc6-66d8b37b517e",
     "showTitle": false,
     "title": ""
    }
   },
   "outputs": [
    {
     "output_type": "display_data",
     "data": {
      "text/html": [
       "<style scoped>\n",
       "  .ansiout {\n",
       "    display: block;\n",
       "    unicode-bidi: embed;\n",
       "    white-space: pre-wrap;\n",
       "    word-wrap: break-word;\n",
       "    word-break: break-all;\n",
       "    font-family: \"Menlo\", \"Monaco\", \"Consolas\", \"Ubuntu Mono\", \"Source Code Pro\", monospace;\n",
       "    font-size: 13px;\n",
       "    color: #555;\n",
       "    margin-left: 4px;\n",
       "    line-height: 19px;\n",
       "  }\n",
       "</style>\n",
       "<div class=\"ansiout\"></div>"
      ]
     },
     "metadata": {
      "application/vnd.databricks.v1+output": {
       "addedWidgets": {},
       "arguments": {},
       "data": "<div class=\"ansiout\"></div>",
       "datasetInfos": [],
       "metadata": {},
       "removedWidgets": [],
       "type": "html"
      }
     },
     "output_type": "display_data"
    }
   ],
   "source": [
    "from pyspark.sql.types import *\n",
    "from pyspark.sql.functions import *"
   ]
  },
  {
   "cell_type": "code",
   "execution_count": 0,
   "metadata": {
    "application/vnd.databricks.v1+cell": {
     "cellMetadata": {},
     "inputWidgets": {},
     "nuid": "a87700b3-ae4d-4963-ab8b-e0db35bfe0a4",
     "showTitle": false,
     "title": ""
    }
   },
   "outputs": [
    {
     "output_type": "display_data",
     "data": {
      "text/html": [
       "<style scoped>\n",
       "  .table-result-container {\n",
       "    max-height: 300px;\n",
       "    overflow: auto;\n",
       "  }\n",
       "  table, th, td {\n",
       "    border: 1px solid black;\n",
       "    border-collapse: collapse;\n",
       "  }\n",
       "  th, td {\n",
       "    padding: 5px;\n",
       "  }\n",
       "  th {\n",
       "    text-align: left;\n",
       "  }\n",
       "</style><div class='table-result-container'><table class='table-result'><thead style='background-color: white'><tr><th>Name</th><th>Info</th></tr></thead><tbody><tr><td>shrikant</td><td>Map(salary -> 50000, year -> 2022, age -> 21)</td></tr><tr><td>Sanket</td><td>Map(salary -> 53000, year -> 2022, age -> 24)</td></tr><tr><td>Pratham</td><td>Map(salary -> 100000, year -> 2022, age -> 43)</td></tr><tr><td>Prachi</td><td>Map(salary -> 60000, year -> 2022, age -> 22)</td></tr><tr><td>Nidhi</td><td>Map(salary -> 64000, year -> 2022, age -> 22)</td></tr></tbody></table></div>"
      ]
     },
     "metadata": {
      "application/vnd.databricks.v1+output": {
       "addedWidgets": {},
       "aggData": [],
       "aggError": "",
       "aggOverflow": false,
       "aggSchema": [],
       "aggSeriesLimitReached": false,
       "aggType": "",
       "arguments": {},
       "columnCustomDisplayInfos": {},
       "data": [
        [
         "shrikant",
         {
          "age": 21,
          "salary": 50000,
          "year": 2022
         }
        ],
        [
         "Sanket",
         {
          "age": 24,
          "salary": 53000,
          "year": 2022
         }
        ],
        [
         "Pratham",
         {
          "age": 43,
          "salary": 100000,
          "year": 2022
         }
        ],
        [
         "Prachi",
         {
          "age": 22,
          "salary": 60000,
          "year": 2022
         }
        ],
        [
         "Nidhi",
         {
          "age": 22,
          "salary": 64000,
          "year": 2022
         }
        ]
       ],
       "datasetInfos": [],
       "dbfsResultPath": null,
       "isJsonSchema": true,
       "metadata": {},
       "overflow": false,
       "plotOptions": {
        "customPlotOptions": {},
        "displayType": "table",
        "pivotAggregation": null,
        "pivotColumns": null,
        "xColumns": null,
        "yColumns": null
       },
       "removedWidgets": [],
       "schema": [
        {
         "metadata": "{}",
         "name": "Name",
         "type": "\"string\""
        },
        {
         "metadata": "{}",
         "name": "Info",
         "type": "{\"type\":\"map\",\"keyType\":\"string\",\"valueType\":\"long\",\"valueContainsNull\":true}"
        }
       ],
       "type": "table"
      }
     },
     "output_type": "display_data"
    }
   ],
   "source": [
    "data = [('shrikant', {'age':21, 'year':2022, 'salary':50000}),\n",
    "       ('Sanket', {'age':24, 'year':2022, 'salary':53000}),\n",
    "       ('Pratham', {'age':43, 'year':2022, 'salary':100000}),\n",
    "       ('Prachi', {'age':22, 'year':2022, 'salary':60000}),\n",
    "       ('Nidhi', {'age':22, 'year':2022, 'salary':64000})]\n",
    "# schema = StructType([\\\n",
    "#                     StructField('Name', StringType(), True),\\\n",
    "#                     StructField('info', StringType(), True),\\\n",
    "#                     ])\n",
    "df = spark.createDataFrame(data=data, schema=['Name', 'Info'])\n",
    "df.display()"
   ]
  },
  {
   "cell_type": "code",
   "execution_count": 0,
   "metadata": {
    "application/vnd.databricks.v1+cell": {
     "cellMetadata": {},
     "inputWidgets": {},
     "nuid": "18544e23-5987-4533-a3f4-00c8a2826a19",
     "showTitle": true,
     "title": "explode function"
    }
   },
   "outputs": [
    {
     "output_type": "display_data",
     "data": {
      "text/html": [
       "<style scoped>\n",
       "  .table-result-container {\n",
       "    max-height: 300px;\n",
       "    overflow: auto;\n",
       "  }\n",
       "  table, th, td {\n",
       "    border: 1px solid black;\n",
       "    border-collapse: collapse;\n",
       "  }\n",
       "  th, td {\n",
       "    padding: 5px;\n",
       "  }\n",
       "  th {\n",
       "    text-align: left;\n",
       "  }\n",
       "</style><div class='table-result-container'><table class='table-result'><thead style='background-color: white'><tr><th>Name</th><th>key</th><th>value</th></tr></thead><tbody><tr><td>shrikant</td><td>salary</td><td>50000</td></tr><tr><td>shrikant</td><td>year</td><td>2022</td></tr><tr><td>shrikant</td><td>age</td><td>21</td></tr><tr><td>Sanket</td><td>salary</td><td>53000</td></tr><tr><td>Sanket</td><td>year</td><td>2022</td></tr><tr><td>Sanket</td><td>age</td><td>24</td></tr><tr><td>Pratham</td><td>salary</td><td>100000</td></tr><tr><td>Pratham</td><td>year</td><td>2022</td></tr><tr><td>Pratham</td><td>age</td><td>43</td></tr><tr><td>Prachi</td><td>salary</td><td>60000</td></tr><tr><td>Prachi</td><td>year</td><td>2022</td></tr><tr><td>Prachi</td><td>age</td><td>22</td></tr><tr><td>Nidhi</td><td>salary</td><td>64000</td></tr><tr><td>Nidhi</td><td>year</td><td>2022</td></tr><tr><td>Nidhi</td><td>age</td><td>22</td></tr></tbody></table></div>"
      ]
     },
     "metadata": {
      "application/vnd.databricks.v1+output": {
       "addedWidgets": {},
       "aggData": [],
       "aggError": "",
       "aggOverflow": false,
       "aggSchema": [],
       "aggSeriesLimitReached": false,
       "aggType": "",
       "arguments": {},
       "columnCustomDisplayInfos": {},
       "data": [
        [
         "shrikant",
         "salary",
         50000
        ],
        [
         "shrikant",
         "year",
         2022
        ],
        [
         "shrikant",
         "age",
         21
        ],
        [
         "Sanket",
         "salary",
         53000
        ],
        [
         "Sanket",
         "year",
         2022
        ],
        [
         "Sanket",
         "age",
         24
        ],
        [
         "Pratham",
         "salary",
         100000
        ],
        [
         "Pratham",
         "year",
         2022
        ],
        [
         "Pratham",
         "age",
         43
        ],
        [
         "Prachi",
         "salary",
         60000
        ],
        [
         "Prachi",
         "year",
         2022
        ],
        [
         "Prachi",
         "age",
         22
        ],
        [
         "Nidhi",
         "salary",
         64000
        ],
        [
         "Nidhi",
         "year",
         2022
        ],
        [
         "Nidhi",
         "age",
         22
        ]
       ],
       "datasetInfos": [],
       "dbfsResultPath": null,
       "isJsonSchema": true,
       "metadata": {},
       "overflow": false,
       "plotOptions": {
        "customPlotOptions": {},
        "displayType": "table",
        "pivotAggregation": null,
        "pivotColumns": null,
        "xColumns": null,
        "yColumns": null
       },
       "removedWidgets": [],
       "schema": [
        {
         "metadata": "{}",
         "name": "Name",
         "type": "\"string\""
        },
        {
         "metadata": "{}",
         "name": "key",
         "type": "\"string\""
        },
        {
         "metadata": "{}",
         "name": "value",
         "type": "\"long\""
        }
       ],
       "type": "table"
      }
     },
     "output_type": "display_data"
    }
   ],
   "source": [
    "df1 = df.select('Name', explode('Info'))\n",
    "df1.display()"
   ]
  },
  {
   "cell_type": "code",
   "execution_count": 0,
   "metadata": {
    "application/vnd.databricks.v1+cell": {
     "cellMetadata": {},
     "inputWidgets": {},
     "nuid": "f53c6440-1964-4ee5-bffe-3892cafc5440",
     "showTitle": true,
     "title": "pivot function"
    }
   },
   "outputs": [
    {
     "output_type": "display_data",
     "data": {
      "text/html": [
       "<style scoped>\n",
       "  .table-result-container {\n",
       "    max-height: 300px;\n",
       "    overflow: auto;\n",
       "  }\n",
       "  table, th, td {\n",
       "    border: 1px solid black;\n",
       "    border-collapse: collapse;\n",
       "  }\n",
       "  th, td {\n",
       "    padding: 5px;\n",
       "  }\n",
       "  th {\n",
       "    text-align: left;\n",
       "  }\n",
       "</style><div class='table-result-container'><table class='table-result'><thead style='background-color: white'><tr><th>Name</th><th>age</th><th>salary</th><th>year</th></tr></thead><tbody><tr><td>shrikant</td><td>21</td><td>50000</td><td>2022</td></tr><tr><td>Prachi</td><td>22</td><td>60000</td><td>2022</td></tr><tr><td>Pratham</td><td>43</td><td>100000</td><td>2022</td></tr><tr><td>Sanket</td><td>24</td><td>53000</td><td>2022</td></tr><tr><td>Nidhi</td><td>22</td><td>64000</td><td>2022</td></tr></tbody></table></div>"
      ]
     },
     "metadata": {
      "application/vnd.databricks.v1+output": {
       "addedWidgets": {},
       "aggData": [],
       "aggError": "",
       "aggOverflow": false,
       "aggSchema": [],
       "aggSeriesLimitReached": false,
       "aggType": "",
       "arguments": {},
       "columnCustomDisplayInfos": {},
       "data": [
        [
         "shrikant",
         21,
         50000,
         2022
        ],
        [
         "Prachi",
         22,
         60000,
         2022
        ],
        [
         "Pratham",
         43,
         100000,
         2022
        ],
        [
         "Sanket",
         24,
         53000,
         2022
        ],
        [
         "Nidhi",
         22,
         64000,
         2022
        ]
       ],
       "datasetInfos": [],
       "dbfsResultPath": null,
       "isJsonSchema": true,
       "metadata": {},
       "overflow": false,
       "plotOptions": {
        "customPlotOptions": {},
        "displayType": "table",
        "pivotAggregation": null,
        "pivotColumns": null,
        "xColumns": null,
        "yColumns": null
       },
       "removedWidgets": [],
       "schema": [
        {
         "metadata": "{}",
         "name": "Name",
         "type": "\"string\""
        },
        {
         "metadata": "{}",
         "name": "age",
         "type": "\"long\""
        },
        {
         "metadata": "{}",
         "name": "salary",
         "type": "\"long\""
        },
        {
         "metadata": "{}",
         "name": "year",
         "type": "\"long\""
        }
       ],
       "type": "table"
      }
     },
     "output_type": "display_data"
    }
   ],
   "source": [
    "df2 = df1.groupBy('Name').pivot('key').sum('value')\n",
    "df2.display()"
   ]
  },
  {
   "cell_type": "code",
   "execution_count": 0,
   "metadata": {
    "application/vnd.databricks.v1+cell": {
     "cellMetadata": {},
     "inputWidgets": {},
     "nuid": "695bcbf9-6f32-4509-b90c-07fcf3ea00dc",
     "showTitle": true,
     "title": "when and otherwise function"
    }
   },
   "outputs": [
    {
     "output_type": "display_data",
     "data": {
      "text/html": [
       "<style scoped>\n",
       "  .table-result-container {\n",
       "    max-height: 300px;\n",
       "    overflow: auto;\n",
       "  }\n",
       "  table, th, td {\n",
       "    border: 1px solid black;\n",
       "    border-collapse: collapse;\n",
       "  }\n",
       "  th, td {\n",
       "    padding: 5px;\n",
       "  }\n",
       "  th {\n",
       "    text-align: left;\n",
       "  }\n",
       "</style><div class='table-result-container'><table class='table-result'><thead style='background-color: white'><tr><th>Name</th><th>age</th><th>salary</th><th>year</th><th>salary dest</th></tr></thead><tbody><tr><td>shrikant</td><td>21</td><td>50000</td><td>2022</td><td>Average</td></tr><tr><td>Prachi</td><td>22</td><td>60000</td><td>2022</td><td>Good</td></tr><tr><td>Pratham</td><td>43</td><td>100000</td><td>2022</td><td>High</td></tr><tr><td>Sanket</td><td>24</td><td>53000</td><td>2022</td><td>Average</td></tr><tr><td>Nidhi</td><td>22</td><td>64000</td><td>2022</td><td>Good</td></tr></tbody></table></div>"
      ]
     },
     "metadata": {
      "application/vnd.databricks.v1+output": {
       "addedWidgets": {},
       "aggData": [],
       "aggError": "",
       "aggOverflow": false,
       "aggSchema": [],
       "aggSeriesLimitReached": false,
       "aggType": "",
       "arguments": {},
       "columnCustomDisplayInfos": {},
       "data": [
        [
         "shrikant",
         21,
         50000,
         2022,
         "Average"
        ],
        [
         "Prachi",
         22,
         60000,
         2022,
         "Good"
        ],
        [
         "Pratham",
         43,
         100000,
         2022,
         "High"
        ],
        [
         "Sanket",
         24,
         53000,
         2022,
         "Average"
        ],
        [
         "Nidhi",
         22,
         64000,
         2022,
         "Good"
        ]
       ],
       "datasetInfos": [],
       "dbfsResultPath": null,
       "isJsonSchema": true,
       "metadata": {},
       "overflow": false,
       "plotOptions": {
        "customPlotOptions": {},
        "displayType": "table",
        "pivotAggregation": null,
        "pivotColumns": null,
        "xColumns": null,
        "yColumns": null
       },
       "removedWidgets": [],
       "schema": [
        {
         "metadata": "{}",
         "name": "Name",
         "type": "\"string\""
        },
        {
         "metadata": "{}",
         "name": "age",
         "type": "\"long\""
        },
        {
         "metadata": "{}",
         "name": "salary",
         "type": "\"long\""
        },
        {
         "metadata": "{}",
         "name": "year",
         "type": "\"long\""
        },
        {
         "metadata": "{}",
         "name": "salary dest",
         "type": "\"string\""
        }
       ],
       "type": "table"
      }
     },
     "output_type": "display_data"
    }
   ],
   "source": [
    "df3 = df2.withColumn('salary dest',\\\n",
    "                     when(df2.salary>=100000, 'High').\\\n",
    "                     when(df2.salary>=60000, 'Good').\\\n",
    "                     otherwise('Average'))\n",
    "df3.display()"
   ]
  },
  {
   "cell_type": "code",
   "execution_count": 0,
   "metadata": {
    "application/vnd.databricks.v1+cell": {
     "cellMetadata": {},
     "inputWidgets": {},
     "nuid": "14445f80-5429-4e94-99c3-b92f47ace768",
     "showTitle": false,
     "title": ""
    }
   },
   "outputs": [
    {
     "output_type": "display_data",
     "data": {
      "text/html": [
       "<style scoped>\n",
       "  .table-result-container {\n",
       "    max-height: 300px;\n",
       "    overflow: auto;\n",
       "  }\n",
       "  table, th, td {\n",
       "    border: 1px solid black;\n",
       "    border-collapse: collapse;\n",
       "  }\n",
       "  th, td {\n",
       "    padding: 5px;\n",
       "  }\n",
       "  th {\n",
       "    text-align: left;\n",
       "  }\n",
       "</style><div class='table-result-container'><table class='table-result'><thead style='background-color: white'><tr><th>Name</th><th>Info</th></tr></thead><tbody><tr><td>John</td><td>Map(salary -> 50000, year -> 2022, age -> 21)</td></tr><tr><td>Ethos</td><td>Map(salary -> 53000, year -> 2022, age -> 24)</td></tr><tr><td>Pratham</td><td>Map(salary -> 100000, year -> 2022, age -> 43)</td></tr><tr><td>Prachi</td><td>Map(salary -> 60000, year -> 2022, age -> 22)</td></tr><tr><td>Riya</td><td>Map(salary -> 64000, year -> 2022, age -> 22)</td></tr></tbody></table></div>"
      ]
     },
     "metadata": {
      "application/vnd.databricks.v1+output": {
       "addedWidgets": {},
       "aggData": [],
       "aggError": "",
       "aggOverflow": false,
       "aggSchema": [],
       "aggSeriesLimitReached": false,
       "aggType": "",
       "arguments": {},
       "columnCustomDisplayInfos": {},
       "data": [
        [
         "John",
         {
          "age": 21,
          "salary": 50000,
          "year": 2022
         }
        ],
        [
         "Ethos",
         {
          "age": 24,
          "salary": 53000,
          "year": 2022
         }
        ],
        [
         "Pratham",
         {
          "age": 43,
          "salary": 100000,
          "year": 2022
         }
        ],
        [
         "Prachi",
         {
          "age": 22,
          "salary": 60000,
          "year": 2022
         }
        ],
        [
         "Riya",
         {
          "age": 22,
          "salary": 64000,
          "year": 2022
         }
        ]
       ],
       "datasetInfos": [],
       "dbfsResultPath": null,
       "isJsonSchema": true,
       "metadata": {},
       "overflow": false,
       "plotOptions": {
        "customPlotOptions": {},
        "displayType": "table",
        "pivotAggregation": null,
        "pivotColumns": null,
        "xColumns": null,
        "yColumns": null
       },
       "removedWidgets": [],
       "schema": [
        {
         "metadata": "{}",
         "name": "Name",
         "type": "\"string\""
        },
        {
         "metadata": "{}",
         "name": "Info",
         "type": "{\"type\":\"map\",\"keyType\":\"string\",\"valueType\":\"long\",\"valueContainsNull\":true}"
        }
       ],
       "type": "table"
      }
     },
     "output_type": "display_data"
    }
   ],
   "source": [
    "## create new dataframe\n",
    "data_new = [('John', {'age':21, 'year':2022, 'salary':50000}),\n",
    "       ('Ethos', {'age':24, 'year':2022, 'salary':53000}),\n",
    "       ('Pratham', {'age':43, 'year':2022, 'salary':100000}),\n",
    "       ('Prachi', {'age':22, 'year':2022, 'salary':60000}),\n",
    "       ('Riya', {'age':22, 'year':2022, 'salary':64000})]\n",
    "df_new = spark.createDataFrame(data=data_new, schema=['Name', 'Info'])\n",
    "df_new.display()"
   ]
  },
  {
   "cell_type": "code",
   "execution_count": 0,
   "metadata": {
    "application/vnd.databricks.v1+cell": {
     "cellMetadata": {},
     "inputWidgets": {},
     "nuid": "3da0bfb7-627c-4132-a24c-4efcd82c56d0",
     "showTitle": true,
     "title": "union function"
    }
   },
   "outputs": [
    {
     "output_type": "display_data",
     "data": {
      "text/html": [
       "<style scoped>\n",
       "  .ansiout {\n",
       "    display: block;\n",
       "    unicode-bidi: embed;\n",
       "    white-space: pre-wrap;\n",
       "    word-wrap: break-word;\n",
       "    word-break: break-all;\n",
       "    font-family: \"Menlo\", \"Monaco\", \"Consolas\", \"Ubuntu Mono\", \"Source Code Pro\", monospace;\n",
       "    font-size: 13px;\n",
       "    color: #555;\n",
       "    margin-left: 4px;\n",
       "    line-height: 19px;\n",
       "  }\n",
       "</style>\n",
       "<div class=\"ansiout\">Union function dataframe : \n",
       "</div>"
      ]
     },
     "metadata": {
      "application/vnd.databricks.v1+output": {
       "addedWidgets": {},
       "arguments": {},
       "data": "<div class=\"ansiout\">Union function dataframe : \n</div>",
       "datasetInfos": [],
       "metadata": {},
       "removedWidgets": [],
       "type": "html"
      }
     },
     "output_type": "display_data"
    },
    {
     "output_type": "display_data",
     "data": {
      "text/html": [
       "<style scoped>\n",
       "  .table-result-container {\n",
       "    max-height: 300px;\n",
       "    overflow: auto;\n",
       "  }\n",
       "  table, th, td {\n",
       "    border: 1px solid black;\n",
       "    border-collapse: collapse;\n",
       "  }\n",
       "  th, td {\n",
       "    padding: 5px;\n",
       "  }\n",
       "  th {\n",
       "    text-align: left;\n",
       "  }\n",
       "</style><div class='table-result-container'><table class='table-result'><thead style='background-color: white'><tr><th>Name</th><th>Info</th></tr></thead><tbody><tr><td>shrikant</td><td>Map(salary -> 50000, year -> 2022, age -> 21)</td></tr><tr><td>Sanket</td><td>Map(salary -> 53000, year -> 2022, age -> 24)</td></tr><tr><td>Pratham</td><td>Map(salary -> 100000, year -> 2022, age -> 43)</td></tr><tr><td>Prachi</td><td>Map(salary -> 60000, year -> 2022, age -> 22)</td></tr><tr><td>Nidhi</td><td>Map(salary -> 64000, year -> 2022, age -> 22)</td></tr><tr><td>John</td><td>Map(salary -> 50000, year -> 2022, age -> 21)</td></tr><tr><td>Ethos</td><td>Map(salary -> 53000, year -> 2022, age -> 24)</td></tr><tr><td>Pratham</td><td>Map(salary -> 100000, year -> 2022, age -> 43)</td></tr><tr><td>Prachi</td><td>Map(salary -> 60000, year -> 2022, age -> 22)</td></tr><tr><td>Riya</td><td>Map(salary -> 64000, year -> 2022, age -> 22)</td></tr></tbody></table></div>"
      ]
     },
     "metadata": {
      "application/vnd.databricks.v1+output": {
       "addedWidgets": {},
       "aggData": [],
       "aggError": "",
       "aggOverflow": false,
       "aggSchema": [],
       "aggSeriesLimitReached": false,
       "aggType": "",
       "arguments": {},
       "columnCustomDisplayInfos": {},
       "data": [
        [
         "shrikant",
         {
          "age": 21,
          "salary": 50000,
          "year": 2022
         }
        ],
        [
         "Sanket",
         {
          "age": 24,
          "salary": 53000,
          "year": 2022
         }
        ],
        [
         "Pratham",
         {
          "age": 43,
          "salary": 100000,
          "year": 2022
         }
        ],
        [
         "Prachi",
         {
          "age": 22,
          "salary": 60000,
          "year": 2022
         }
        ],
        [
         "Nidhi",
         {
          "age": 22,
          "salary": 64000,
          "year": 2022
         }
        ],
        [
         "John",
         {
          "age": 21,
          "salary": 50000,
          "year": 2022
         }
        ],
        [
         "Ethos",
         {
          "age": 24,
          "salary": 53000,
          "year": 2022
         }
        ],
        [
         "Pratham",
         {
          "age": 43,
          "salary": 100000,
          "year": 2022
         }
        ],
        [
         "Prachi",
         {
          "age": 22,
          "salary": 60000,
          "year": 2022
         }
        ],
        [
         "Riya",
         {
          "age": 22,
          "salary": 64000,
          "year": 2022
         }
        ]
       ],
       "datasetInfos": [],
       "dbfsResultPath": null,
       "isJsonSchema": true,
       "metadata": {},
       "overflow": false,
       "plotOptions": {
        "customPlotOptions": {},
        "displayType": "table",
        "pivotAggregation": null,
        "pivotColumns": null,
        "xColumns": null,
        "yColumns": null
       },
       "removedWidgets": [],
       "schema": [
        {
         "metadata": "{}",
         "name": "Name",
         "type": "\"string\""
        },
        {
         "metadata": "{}",
         "name": "Info",
         "type": "{\"type\":\"map\",\"keyType\":\"string\",\"valueType\":\"long\",\"valueContainsNull\":true}"
        }
       ],
       "type": "table"
      }
     },
     "output_type": "display_data"
    },
    {
     "output_type": "display_data",
     "data": {
      "text/html": [
       "<style scoped>\n",
       "  .ansiout {\n",
       "    display: block;\n",
       "    unicode-bidi: embed;\n",
       "    white-space: pre-wrap;\n",
       "    word-wrap: break-word;\n",
       "    word-break: break-all;\n",
       "    font-family: \"Menlo\", \"Monaco\", \"Consolas\", \"Ubuntu Mono\", \"Source Code Pro\", monospace;\n",
       "    font-size: 13px;\n",
       "    color: #555;\n",
       "    margin-left: 4px;\n",
       "    line-height: 19px;\n",
       "  }\n",
       "</style>\n",
       "<div class=\"ansiout\">After Apply explode function : \n",
       "</div>"
      ]
     },
     "metadata": {
      "application/vnd.databricks.v1+output": {
       "addedWidgets": {},
       "arguments": {},
       "data": "<div class=\"ansiout\">After Apply explode function : \n</div>",
       "datasetInfos": [],
       "metadata": {},
       "removedWidgets": [],
       "type": "html"
      }
     },
     "output_type": "display_data"
    },
    {
     "output_type": "display_data",
     "data": {
      "text/html": [
       "<style scoped>\n",
       "  .table-result-container {\n",
       "    max-height: 300px;\n",
       "    overflow: auto;\n",
       "  }\n",
       "  table, th, td {\n",
       "    border: 1px solid black;\n",
       "    border-collapse: collapse;\n",
       "  }\n",
       "  th, td {\n",
       "    padding: 5px;\n",
       "  }\n",
       "  th {\n",
       "    text-align: left;\n",
       "  }\n",
       "</style><div class='table-result-container'><table class='table-result'><thead style='background-color: white'><tr><th>Name</th><th>key</th><th>value</th></tr></thead><tbody><tr><td>shrikant</td><td>salary</td><td>50000</td></tr><tr><td>shrikant</td><td>year</td><td>2022</td></tr><tr><td>shrikant</td><td>age</td><td>21</td></tr><tr><td>Sanket</td><td>salary</td><td>53000</td></tr><tr><td>Sanket</td><td>year</td><td>2022</td></tr><tr><td>Sanket</td><td>age</td><td>24</td></tr><tr><td>Pratham</td><td>salary</td><td>100000</td></tr><tr><td>Pratham</td><td>year</td><td>2022</td></tr><tr><td>Pratham</td><td>age</td><td>43</td></tr><tr><td>Prachi</td><td>salary</td><td>60000</td></tr><tr><td>Prachi</td><td>year</td><td>2022</td></tr><tr><td>Prachi</td><td>age</td><td>22</td></tr><tr><td>Nidhi</td><td>salary</td><td>64000</td></tr><tr><td>Nidhi</td><td>year</td><td>2022</td></tr><tr><td>Nidhi</td><td>age</td><td>22</td></tr><tr><td>John</td><td>salary</td><td>50000</td></tr><tr><td>John</td><td>year</td><td>2022</td></tr><tr><td>John</td><td>age</td><td>21</td></tr><tr><td>Ethos</td><td>salary</td><td>53000</td></tr><tr><td>Ethos</td><td>year</td><td>2022</td></tr><tr><td>Ethos</td><td>age</td><td>24</td></tr><tr><td>Pratham</td><td>salary</td><td>100000</td></tr><tr><td>Pratham</td><td>year</td><td>2022</td></tr><tr><td>Pratham</td><td>age</td><td>43</td></tr><tr><td>Prachi</td><td>salary</td><td>60000</td></tr><tr><td>Prachi</td><td>year</td><td>2022</td></tr><tr><td>Prachi</td><td>age</td><td>22</td></tr><tr><td>Riya</td><td>salary</td><td>64000</td></tr><tr><td>Riya</td><td>year</td><td>2022</td></tr><tr><td>Riya</td><td>age</td><td>22</td></tr></tbody></table></div>"
      ]
     },
     "metadata": {
      "application/vnd.databricks.v1+output": {
       "addedWidgets": {},
       "aggData": [],
       "aggError": "",
       "aggOverflow": false,
       "aggSchema": [],
       "aggSeriesLimitReached": false,
       "aggType": "",
       "arguments": {},
       "columnCustomDisplayInfos": {},
       "data": [
        [
         "shrikant",
         "salary",
         50000
        ],
        [
         "shrikant",
         "year",
         2022
        ],
        [
         "shrikant",
         "age",
         21
        ],
        [
         "Sanket",
         "salary",
         53000
        ],
        [
         "Sanket",
         "year",
         2022
        ],
        [
         "Sanket",
         "age",
         24
        ],
        [
         "Pratham",
         "salary",
         100000
        ],
        [
         "Pratham",
         "year",
         2022
        ],
        [
         "Pratham",
         "age",
         43
        ],
        [
         "Prachi",
         "salary",
         60000
        ],
        [
         "Prachi",
         "year",
         2022
        ],
        [
         "Prachi",
         "age",
         22
        ],
        [
         "Nidhi",
         "salary",
         64000
        ],
        [
         "Nidhi",
         "year",
         2022
        ],
        [
         "Nidhi",
         "age",
         22
        ],
        [
         "John",
         "salary",
         50000
        ],
        [
         "John",
         "year",
         2022
        ],
        [
         "John",
         "age",
         21
        ],
        [
         "Ethos",
         "salary",
         53000
        ],
        [
         "Ethos",
         "year",
         2022
        ],
        [
         "Ethos",
         "age",
         24
        ],
        [
         "Pratham",
         "salary",
         100000
        ],
        [
         "Pratham",
         "year",
         2022
        ],
        [
         "Pratham",
         "age",
         43
        ],
        [
         "Prachi",
         "salary",
         60000
        ],
        [
         "Prachi",
         "year",
         2022
        ],
        [
         "Prachi",
         "age",
         22
        ],
        [
         "Riya",
         "salary",
         64000
        ],
        [
         "Riya",
         "year",
         2022
        ],
        [
         "Riya",
         "age",
         22
        ]
       ],
       "datasetInfos": [],
       "dbfsResultPath": null,
       "isJsonSchema": true,
       "metadata": {},
       "overflow": false,
       "plotOptions": {
        "customPlotOptions": {},
        "displayType": "table",
        "pivotAggregation": null,
        "pivotColumns": null,
        "xColumns": null,
        "yColumns": null
       },
       "removedWidgets": [],
       "schema": [
        {
         "metadata": "{}",
         "name": "Name",
         "type": "\"string\""
        },
        {
         "metadata": "{}",
         "name": "key",
         "type": "\"string\""
        },
        {
         "metadata": "{}",
         "name": "value",
         "type": "\"long\""
        }
       ],
       "type": "table"
      }
     },
     "output_type": "display_data"
    },
    {
     "output_type": "display_data",
     "data": {
      "text/html": [
       "<style scoped>\n",
       "  .ansiout {\n",
       "    display: block;\n",
       "    unicode-bidi: embed;\n",
       "    white-space: pre-wrap;\n",
       "    word-wrap: break-word;\n",
       "    word-break: break-all;\n",
       "    font-family: \"Menlo\", \"Monaco\", \"Consolas\", \"Ubuntu Mono\", \"Source Code Pro\", monospace;\n",
       "    font-size: 13px;\n",
       "    color: #555;\n",
       "    margin-left: 4px;\n",
       "    line-height: 19px;\n",
       "  }\n",
       "</style>\n",
       "<div class=\"ansiout\">After Apply pivot function : \n",
       "</div>"
      ]
     },
     "metadata": {
      "application/vnd.databricks.v1+output": {
       "addedWidgets": {},
       "arguments": {},
       "data": "<div class=\"ansiout\">After Apply pivot function : \n</div>",
       "datasetInfos": [],
       "metadata": {},
       "removedWidgets": [],
       "type": "html"
      }
     },
     "output_type": "display_data"
    },
    {
     "output_type": "display_data",
     "data": {
      "text/html": [
       "<style scoped>\n",
       "  .table-result-container {\n",
       "    max-height: 300px;\n",
       "    overflow: auto;\n",
       "  }\n",
       "  table, th, td {\n",
       "    border: 1px solid black;\n",
       "    border-collapse: collapse;\n",
       "  }\n",
       "  th, td {\n",
       "    padding: 5px;\n",
       "  }\n",
       "  th {\n",
       "    text-align: left;\n",
       "  }\n",
       "</style><div class='table-result-container'><table class='table-result'><thead style='background-color: white'><tr><th>Name</th><th>age</th><th>salary</th><th>year</th></tr></thead><tbody><tr><td>shrikant</td><td>21</td><td>50000</td><td>2022</td></tr><tr><td>Prachi</td><td>22</td><td>60000</td><td>2022</td></tr><tr><td>Ethos</td><td>24</td><td>53000</td><td>2022</td></tr><tr><td>Pratham</td><td>43</td><td>100000</td><td>2022</td></tr><tr><td>Riya</td><td>22</td><td>64000</td><td>2022</td></tr><tr><td>John</td><td>21</td><td>50000</td><td>2022</td></tr><tr><td>Sanket</td><td>24</td><td>53000</td><td>2022</td></tr><tr><td>Nidhi</td><td>22</td><td>64000</td><td>2022</td></tr></tbody></table></div>"
      ]
     },
     "metadata": {
      "application/vnd.databricks.v1+output": {
       "addedWidgets": {},
       "aggData": [],
       "aggError": "",
       "aggOverflow": false,
       "aggSchema": [],
       "aggSeriesLimitReached": false,
       "aggType": "",
       "arguments": {},
       "columnCustomDisplayInfos": {},
       "data": [
        [
         "shrikant",
         21,
         50000,
         2022
        ],
        [
         "Prachi",
         22,
         60000,
         2022
        ],
        [
         "Ethos",
         24,
         53000,
         2022
        ],
        [
         "Pratham",
         43,
         100000,
         2022
        ],
        [
         "Riya",
         22,
         64000,
         2022
        ],
        [
         "John",
         21,
         50000,
         2022
        ],
        [
         "Sanket",
         24,
         53000,
         2022
        ],
        [
         "Nidhi",
         22,
         64000,
         2022
        ]
       ],
       "datasetInfos": [],
       "dbfsResultPath": null,
       "isJsonSchema": true,
       "metadata": {},
       "overflow": false,
       "plotOptions": {
        "customPlotOptions": {},
        "displayType": "table",
        "pivotAggregation": null,
        "pivotColumns": null,
        "xColumns": null,
        "yColumns": null
       },
       "removedWidgets": [],
       "schema": [
        {
         "metadata": "{}",
         "name": "Name",
         "type": "\"string\""
        },
        {
         "metadata": "{}",
         "name": "age",
         "type": "\"long\""
        },
        {
         "metadata": "{}",
         "name": "salary",
         "type": "\"long\""
        },
        {
         "metadata": "{}",
         "name": "year",
         "type": "\"long\""
        }
       ],
       "type": "table"
      }
     },
     "output_type": "display_data"
    },
    {
     "output_type": "display_data",
     "data": {
      "text/html": [
       "<style scoped>\n",
       "  .ansiout {\n",
       "    display: block;\n",
       "    unicode-bidi: embed;\n",
       "    white-space: pre-wrap;\n",
       "    word-wrap: break-word;\n",
       "    word-break: break-all;\n",
       "    font-family: \"Menlo\", \"Monaco\", \"Consolas\", \"Ubuntu Mono\", \"Source Code Pro\", monospace;\n",
       "    font-size: 13px;\n",
       "    color: #555;\n",
       "    margin-left: 4px;\n",
       "    line-height: 19px;\n",
       "  }\n",
       "</style>\n",
       "<div class=\"ansiout\">After Apply drop_duplicates function : \n",
       "</div>"
      ]
     },
     "metadata": {
      "application/vnd.databricks.v1+output": {
       "addedWidgets": {},
       "arguments": {},
       "data": "<div class=\"ansiout\">After Apply drop_duplicates function : \n</div>",
       "datasetInfos": [],
       "metadata": {},
       "removedWidgets": [],
       "type": "html"
      }
     },
     "output_type": "display_data"
    },
    {
     "output_type": "display_data",
     "data": {
      "text/html": [
       "<style scoped>\n",
       "  .table-result-container {\n",
       "    max-height: 300px;\n",
       "    overflow: auto;\n",
       "  }\n",
       "  table, th, td {\n",
       "    border: 1px solid black;\n",
       "    border-collapse: collapse;\n",
       "  }\n",
       "  th, td {\n",
       "    padding: 5px;\n",
       "  }\n",
       "  th {\n",
       "    text-align: left;\n",
       "  }\n",
       "</style><div class='table-result-container'><table class='table-result'><thead style='background-color: white'><tr><th>Name</th><th>age</th><th>salary</th><th>year</th></tr></thead><tbody><tr><td>shrikant</td><td>21</td><td>50000</td><td>2022</td></tr><tr><td>Prachi</td><td>22</td><td>60000</td><td>2022</td></tr><tr><td>Ethos</td><td>24</td><td>53000</td><td>2022</td></tr><tr><td>Pratham</td><td>43</td><td>100000</td><td>2022</td></tr><tr><td>Riya</td><td>22</td><td>64000</td><td>2022</td></tr><tr><td>John</td><td>21</td><td>50000</td><td>2022</td></tr><tr><td>Sanket</td><td>24</td><td>53000</td><td>2022</td></tr><tr><td>Nidhi</td><td>22</td><td>64000</td><td>2022</td></tr></tbody></table></div>"
      ]
     },
     "metadata": {
      "application/vnd.databricks.v1+output": {
       "addedWidgets": {},
       "aggData": [],
       "aggError": "",
       "aggOverflow": false,
       "aggSchema": [],
       "aggSeriesLimitReached": false,
       "aggType": "",
       "arguments": {},
       "columnCustomDisplayInfos": {},
       "data": [
        [
         "shrikant",
         21,
         50000,
         2022
        ],
        [
         "Prachi",
         22,
         60000,
         2022
        ],
        [
         "Ethos",
         24,
         53000,
         2022
        ],
        [
         "Pratham",
         43,
         100000,
         2022
        ],
        [
         "Riya",
         22,
         64000,
         2022
        ],
        [
         "John",
         21,
         50000,
         2022
        ],
        [
         "Sanket",
         24,
         53000,
         2022
        ],
        [
         "Nidhi",
         22,
         64000,
         2022
        ]
       ],
       "datasetInfos": [],
       "dbfsResultPath": null,
       "isJsonSchema": true,
       "metadata": {},
       "overflow": false,
       "plotOptions": {
        "customPlotOptions": {},
        "displayType": "table",
        "pivotAggregation": null,
        "pivotColumns": null,
        "xColumns": null,
        "yColumns": null
       },
       "removedWidgets": [],
       "schema": [
        {
         "metadata": "{}",
         "name": "Name",
         "type": "\"string\""
        },
        {
         "metadata": "{}",
         "name": "age",
         "type": "\"long\""
        },
        {
         "metadata": "{}",
         "name": "salary",
         "type": "\"long\""
        },
        {
         "metadata": "{}",
         "name": "year",
         "type": "\"long\""
        }
       ],
       "type": "table"
      }
     },
     "output_type": "display_data"
    }
   ],
   "source": [
    "df4 = df.union(df_new) ## union it's used for combine two dataframes\n",
    "print('Union function dataframe : ')\n",
    "df4.display()\n",
    "df4 = df4.select('Name', explode('Info'))\n",
    "print('After Apply explode function : ')\n",
    "df4.display()\n",
    "df4 = df4.groupBy('Name').pivot('key').agg({\"value\":'first'})\n",
    "print('After Apply pivot function : ')\n",
    "df4.display()\n",
    "df4 = df4.drop_duplicates() ## it is used for drop duplicate values from dataframe\n",
    "print('After Apply drop_duplicates function : ')\n",
    "df4.display()"
   ]
  },
  {
   "cell_type": "code",
   "execution_count": 0,
   "metadata": {
    "application/vnd.databricks.v1+cell": {
     "cellMetadata": {},
     "inputWidgets": {},
     "nuid": "afaa5466-29be-4671-9570-cb98a23ae13c",
     "showTitle": false,
     "title": ""
    }
   },
   "outputs": [
    {
     "output_type": "display_data",
     "data": {
      "text/html": [
       "<style scoped>\n",
       "  .table-result-container {\n",
       "    max-height: 300px;\n",
       "    overflow: auto;\n",
       "  }\n",
       "  table, th, td {\n",
       "    border: 1px solid black;\n",
       "    border-collapse: collapse;\n",
       "  }\n",
       "  th, td {\n",
       "    padding: 5px;\n",
       "  }\n",
       "  th {\n",
       "    text-align: left;\n",
       "  }\n",
       "</style><div class='table-result-container'><table class='table-result'><thead style='background-color: white'><tr><th>Name</th><th>Age</th><th>City</th><th>Marks</th></tr></thead><tbody><tr><td>shrikant</td><td>25</td><td>satara</td><td>63</td></tr><tr><td>john</td><td>45</td><td>UP</td><td>92</td></tr><tr><td>thomas</td><td>35</td><td>Tokiyo</td><td>43</td></tr><tr><td>nancy</td><td>15</td><td>null</td><td>56</td></tr><tr><td>rutu</td><td>26</td><td>pune</td><td>null</td></tr></tbody></table></div>"
      ]
     },
     "metadata": {
      "application/vnd.databricks.v1+output": {
       "addedWidgets": {},
       "aggData": [],
       "aggError": "",
       "aggOverflow": false,
       "aggSchema": [],
       "aggSeriesLimitReached": false,
       "aggType": "",
       "arguments": {},
       "columnCustomDisplayInfos": {},
       "data": [
        [
         "shrikant",
         25,
         "satara",
         63
        ],
        [
         "john",
         45,
         "UP",
         92
        ],
        [
         "thomas",
         35,
         "Tokiyo",
         43
        ],
        [
         "nancy",
         15,
         null,
         56
        ],
        [
         "rutu",
         26,
         "pune",
         null
        ]
       ],
       "datasetInfos": [],
       "dbfsResultPath": null,
       "isJsonSchema": true,
       "metadata": {},
       "overflow": false,
       "plotOptions": {
        "customPlotOptions": {},
        "displayType": "table",
        "pivotAggregation": null,
        "pivotColumns": null,
        "xColumns": null,
        "yColumns": null
       },
       "removedWidgets": [],
       "schema": [
        {
         "metadata": "{}",
         "name": "Name",
         "type": "\"string\""
        },
        {
         "metadata": "{}",
         "name": "Age",
         "type": "\"long\""
        },
        {
         "metadata": "{}",
         "name": "City",
         "type": "\"string\""
        },
        {
         "metadata": "{}",
         "name": "Marks",
         "type": "\"long\""
        }
       ],
       "type": "table"
      }
     },
     "output_type": "display_data"
    }
   ],
   "source": [
    "data = [('shrikant', 25, 'satara', 63),\n",
    "       ('john', 45, 'UP', 92),\n",
    "       ('thomas', 35, 'Tokiyo', 43),\n",
    "       ('nancy', 15, None, 56),\n",
    "       ('rutu', 26, 'pune',None)]\n",
    "df5 = spark.createDataFrame(data = data, schema=['Name', 'Age', 'City', 'Marks'])\n",
    "df5.display()"
   ]
  },
  {
   "cell_type": "code",
   "execution_count": 0,
   "metadata": {
    "application/vnd.databricks.v1+cell": {
     "cellMetadata": {},
     "inputWidgets": {},
     "nuid": "5bd75fee-a5f8-44c1-b5ae-188a45b6db27",
     "showTitle": true,
     "title": "isNull function"
    }
   },
   "outputs": [
    {
     "output_type": "display_data",
     "data": {
      "text/html": [
       "<style scoped>\n",
       "  .table-result-container {\n",
       "    max-height: 300px;\n",
       "    overflow: auto;\n",
       "  }\n",
       "  table, th, td {\n",
       "    border: 1px solid black;\n",
       "    border-collapse: collapse;\n",
       "  }\n",
       "  th, td {\n",
       "    padding: 5px;\n",
       "  }\n",
       "  th {\n",
       "    text-align: left;\n",
       "  }\n",
       "</style><div class='table-result-container'><table class='table-result'><thead style='background-color: white'><tr><th>Name</th><th>Age</th><th>City</th><th>Marks</th></tr></thead><tbody><tr><td>rutu</td><td>26</td><td>pune</td><td>null</td></tr></tbody></table></div>"
      ]
     },
     "metadata": {
      "application/vnd.databricks.v1+output": {
       "addedWidgets": {},
       "aggData": [],
       "aggError": "",
       "aggOverflow": false,
       "aggSchema": [],
       "aggSeriesLimitReached": false,
       "aggType": "",
       "arguments": {},
       "columnCustomDisplayInfos": {},
       "data": [
        [
         "rutu",
         26,
         "pune",
         null
        ]
       ],
       "datasetInfos": [],
       "dbfsResultPath": null,
       "isJsonSchema": true,
       "metadata": {},
       "overflow": false,
       "plotOptions": {
        "customPlotOptions": {},
        "displayType": "table",
        "pivotAggregation": null,
        "pivotColumns": null,
        "xColumns": null,
        "yColumns": null
       },
       "removedWidgets": [],
       "schema": [
        {
         "metadata": "{}",
         "name": "Name",
         "type": "\"string\""
        },
        {
         "metadata": "{}",
         "name": "Age",
         "type": "\"long\""
        },
        {
         "metadata": "{}",
         "name": "City",
         "type": "\"string\""
        },
        {
         "metadata": "{}",
         "name": "Marks",
         "type": "\"long\""
        }
       ],
       "type": "table"
      }
     },
     "output_type": "display_data"
    },
    {
     "output_type": "display_data",
     "data": {
      "text/html": [
       "<style scoped>\n",
       "  .table-result-container {\n",
       "    max-height: 300px;\n",
       "    overflow: auto;\n",
       "  }\n",
       "  table, th, td {\n",
       "    border: 1px solid black;\n",
       "    border-collapse: collapse;\n",
       "  }\n",
       "  th, td {\n",
       "    padding: 5px;\n",
       "  }\n",
       "  th {\n",
       "    text-align: left;\n",
       "  }\n",
       "</style><div class='table-result-container'><table class='table-result'><thead style='background-color: white'><tr><th>Name</th><th>Age</th><th>City</th><th>Marks</th></tr></thead><tbody><tr><td>nancy</td><td>15</td><td>null</td><td>56</td></tr></tbody></table></div>"
      ]
     },
     "metadata": {
      "application/vnd.databricks.v1+output": {
       "addedWidgets": {},
       "aggData": [],
       "aggError": "",
       "aggOverflow": false,
       "aggSchema": [],
       "aggSeriesLimitReached": false,
       "aggType": "",
       "arguments": {},
       "columnCustomDisplayInfos": {},
       "data": [
        [
         "nancy",
         15,
         null,
         56
        ]
       ],
       "datasetInfos": [],
       "dbfsResultPath": null,
       "isJsonSchema": true,
       "metadata": {},
       "overflow": false,
       "plotOptions": {
        "customPlotOptions": {},
        "displayType": "table",
        "pivotAggregation": null,
        "pivotColumns": null,
        "xColumns": null,
        "yColumns": null
       },
       "removedWidgets": [],
       "schema": [
        {
         "metadata": "{}",
         "name": "Name",
         "type": "\"string\""
        },
        {
         "metadata": "{}",
         "name": "Age",
         "type": "\"long\""
        },
        {
         "metadata": "{}",
         "name": "City",
         "type": "\"string\""
        },
        {
         "metadata": "{}",
         "name": "Marks",
         "type": "\"long\""
        }
       ],
       "type": "table"
      }
     },
     "output_type": "display_data"
    }
   ],
   "source": [
    "df5.where(df5.Marks.isNull()).display()\n",
    "df5.where(df5.City.isNull()).display()"
   ]
  },
  {
   "cell_type": "code",
   "execution_count": 0,
   "metadata": {
    "application/vnd.databricks.v1+cell": {
     "cellMetadata": {},
     "inputWidgets": {},
     "nuid": "6ffcb13f-17ad-47e2-9d48-61ac121afbba",
     "showTitle": true,
     "title": "isNotNull function"
    }
   },
   "outputs": [
    {
     "output_type": "display_data",
     "data": {
      "text/html": [
       "<style scoped>\n",
       "  .table-result-container {\n",
       "    max-height: 300px;\n",
       "    overflow: auto;\n",
       "  }\n",
       "  table, th, td {\n",
       "    border: 1px solid black;\n",
       "    border-collapse: collapse;\n",
       "  }\n",
       "  th, td {\n",
       "    padding: 5px;\n",
       "  }\n",
       "  th {\n",
       "    text-align: left;\n",
       "  }\n",
       "</style><div class='table-result-container'><table class='table-result'><thead style='background-color: white'><tr><th>Name</th><th>Age</th><th>City</th><th>Marks</th></tr></thead><tbody><tr><td>shrikant</td><td>25</td><td>satara</td><td>63</td></tr><tr><td>john</td><td>45</td><td>UP</td><td>92</td></tr><tr><td>thomas</td><td>35</td><td>Tokiyo</td><td>43</td></tr><tr><td>nancy</td><td>15</td><td>null</td><td>56</td></tr></tbody></table></div>"
      ]
     },
     "metadata": {
      "application/vnd.databricks.v1+output": {
       "addedWidgets": {},
       "aggData": [],
       "aggError": "",
       "aggOverflow": false,
       "aggSchema": [],
       "aggSeriesLimitReached": false,
       "aggType": "",
       "arguments": {},
       "columnCustomDisplayInfos": {},
       "data": [
        [
         "shrikant",
         25,
         "satara",
         63
        ],
        [
         "john",
         45,
         "UP",
         92
        ],
        [
         "thomas",
         35,
         "Tokiyo",
         43
        ],
        [
         "nancy",
         15,
         null,
         56
        ]
       ],
       "datasetInfos": [],
       "dbfsResultPath": null,
       "isJsonSchema": true,
       "metadata": {},
       "overflow": false,
       "plotOptions": {
        "customPlotOptions": {},
        "displayType": "table",
        "pivotAggregation": null,
        "pivotColumns": null,
        "xColumns": null,
        "yColumns": null
       },
       "removedWidgets": [],
       "schema": [
        {
         "metadata": "{}",
         "name": "Name",
         "type": "\"string\""
        },
        {
         "metadata": "{}",
         "name": "Age",
         "type": "\"long\""
        },
        {
         "metadata": "{}",
         "name": "City",
         "type": "\"string\""
        },
        {
         "metadata": "{}",
         "name": "Marks",
         "type": "\"long\""
        }
       ],
       "type": "table"
      }
     },
     "output_type": "display_data"
    },
    {
     "output_type": "display_data",
     "data": {
      "text/html": [
       "<style scoped>\n",
       "  .table-result-container {\n",
       "    max-height: 300px;\n",
       "    overflow: auto;\n",
       "  }\n",
       "  table, th, td {\n",
       "    border: 1px solid black;\n",
       "    border-collapse: collapse;\n",
       "  }\n",
       "  th, td {\n",
       "    padding: 5px;\n",
       "  }\n",
       "  th {\n",
       "    text-align: left;\n",
       "  }\n",
       "</style><div class='table-result-container'><table class='table-result'><thead style='background-color: white'><tr><th>Name</th><th>Age</th><th>City</th><th>Marks</th></tr></thead><tbody><tr><td>shrikant</td><td>25</td><td>satara</td><td>63</td></tr><tr><td>john</td><td>45</td><td>UP</td><td>92</td></tr><tr><td>thomas</td><td>35</td><td>Tokiyo</td><td>43</td></tr><tr><td>rutu</td><td>26</td><td>pune</td><td>null</td></tr></tbody></table></div>"
      ]
     },
     "metadata": {
      "application/vnd.databricks.v1+output": {
       "addedWidgets": {},
       "aggData": [],
       "aggError": "",
       "aggOverflow": false,
       "aggSchema": [],
       "aggSeriesLimitReached": false,
       "aggType": "",
       "arguments": {},
       "columnCustomDisplayInfos": {},
       "data": [
        [
         "shrikant",
         25,
         "satara",
         63
        ],
        [
         "john",
         45,
         "UP",
         92
        ],
        [
         "thomas",
         35,
         "Tokiyo",
         43
        ],
        [
         "rutu",
         26,
         "pune",
         null
        ]
       ],
       "datasetInfos": [],
       "dbfsResultPath": null,
       "isJsonSchema": true,
       "metadata": {},
       "overflow": false,
       "plotOptions": {
        "customPlotOptions": {},
        "displayType": "table",
        "pivotAggregation": null,
        "pivotColumns": null,
        "xColumns": null,
        "yColumns": null
       },
       "removedWidgets": [],
       "schema": [
        {
         "metadata": "{}",
         "name": "Name",
         "type": "\"string\""
        },
        {
         "metadata": "{}",
         "name": "Age",
         "type": "\"long\""
        },
        {
         "metadata": "{}",
         "name": "City",
         "type": "\"string\""
        },
        {
         "metadata": "{}",
         "name": "Marks",
         "type": "\"long\""
        }
       ],
       "type": "table"
      }
     },
     "output_type": "display_data"
    }
   ],
   "source": [
    "df5.filter(df5.Marks.isNotNull()).display()\n",
    "df5.filter(df5.City.isNotNull()).display()"
   ]
  },
  {
   "cell_type": "code",
   "execution_count": 0,
   "metadata": {
    "application/vnd.databricks.v1+cell": {
     "cellMetadata": {},
     "inputWidgets": {},
     "nuid": "ec5ab21a-9fb7-4f8e-bce5-aaf13890d40a",
     "showTitle": true,
     "title": "dropna function"
    }
   },
   "outputs": [
    {
     "output_type": "display_data",
     "data": {
      "text/html": [
       "<style scoped>\n",
       "  .table-result-container {\n",
       "    max-height: 300px;\n",
       "    overflow: auto;\n",
       "  }\n",
       "  table, th, td {\n",
       "    border: 1px solid black;\n",
       "    border-collapse: collapse;\n",
       "  }\n",
       "  th, td {\n",
       "    padding: 5px;\n",
       "  }\n",
       "  th {\n",
       "    text-align: left;\n",
       "  }\n",
       "</style><div class='table-result-container'><table class='table-result'><thead style='background-color: white'><tr><th>Name</th><th>Age</th><th>City</th><th>Marks</th></tr></thead><tbody><tr><td>shrikant</td><td>25</td><td>satara</td><td>63</td></tr><tr><td>john</td><td>45</td><td>UP</td><td>92</td></tr><tr><td>thomas</td><td>35</td><td>Tokiyo</td><td>43</td></tr></tbody></table></div>"
      ]
     },
     "metadata": {
      "application/vnd.databricks.v1+output": {
       "addedWidgets": {},
       "aggData": [],
       "aggError": "",
       "aggOverflow": false,
       "aggSchema": [],
       "aggSeriesLimitReached": false,
       "aggType": "",
       "arguments": {},
       "columnCustomDisplayInfos": {},
       "data": [
        [
         "shrikant",
         25,
         "satara",
         63
        ],
        [
         "john",
         45,
         "UP",
         92
        ],
        [
         "thomas",
         35,
         "Tokiyo",
         43
        ]
       ],
       "datasetInfos": [],
       "dbfsResultPath": null,
       "isJsonSchema": true,
       "metadata": {},
       "overflow": false,
       "plotOptions": {
        "customPlotOptions": {},
        "displayType": "table",
        "pivotAggregation": null,
        "pivotColumns": null,
        "xColumns": null,
        "yColumns": null
       },
       "removedWidgets": [],
       "schema": [
        {
         "metadata": "{}",
         "name": "Name",
         "type": "\"string\""
        },
        {
         "metadata": "{}",
         "name": "Age",
         "type": "\"long\""
        },
        {
         "metadata": "{}",
         "name": "City",
         "type": "\"string\""
        },
        {
         "metadata": "{}",
         "name": "Marks",
         "type": "\"long\""
        }
       ],
       "type": "table"
      }
     },
     "output_type": "display_data"
    }
   ],
   "source": [
    "df5.dropna().display()"
   ]
  },
  {
   "cell_type": "code",
   "execution_count": 0,
   "metadata": {
    "application/vnd.databricks.v1+cell": {
     "cellMetadata": {},
     "inputWidgets": {},
     "nuid": "d58e21ad-2142-4386-86eb-d9bc754a71f7",
     "showTitle": false,
     "title": ""
    }
   },
   "outputs": [
    {
     "output_type": "display_data",
     "data": {
      "text/html": [
       "<style scoped>\n",
       "  .ansiout {\n",
       "    display: block;\n",
       "    unicode-bidi: embed;\n",
       "    white-space: pre-wrap;\n",
       "    word-wrap: break-word;\n",
       "    word-break: break-all;\n",
       "    font-family: \"Menlo\", \"Monaco\", \"Consolas\", \"Ubuntu Mono\", \"Source Code Pro\", monospace;\n",
       "    font-size: 13px;\n",
       "    color: #555;\n",
       "    margin-left: 4px;\n",
       "    line-height: 19px;\n",
       "  }\n",
       "</style>\n",
       "<div class=\"ansiout\">Out[75]: 16</div>"
      ]
     },
     "metadata": {
      "application/vnd.databricks.v1+output": {
       "addedWidgets": {},
       "arguments": {},
       "data": "<div class=\"ansiout\">Out[75]: 16</div>",
       "datasetInfos": [],
       "metadata": {},
       "removedWidgets": [],
       "type": "html"
      }
     },
     "output_type": "display_data"
    }
   ],
   "source": [
    "sc.defaultParallelism"
   ]
  },
  {
   "cell_type": "code",
   "execution_count": 0,
   "metadata": {
    "application/vnd.databricks.v1+cell": {
     "cellMetadata": {},
     "inputWidgets": {},
     "nuid": "f98a20b7-da8f-4a5b-9e76-b4b6289471bf",
     "showTitle": false,
     "title": ""
    }
   },
   "outputs": [
    {
     "output_type": "display_data",
     "data": {
      "text/html": [
       "<style scoped>\n",
       "  .ansiout {\n",
       "    display: block;\n",
       "    unicode-bidi: embed;\n",
       "    white-space: pre-wrap;\n",
       "    word-wrap: break-word;\n",
       "    word-break: break-all;\n",
       "    font-family: \"Menlo\", \"Monaco\", \"Consolas\", \"Ubuntu Mono\", \"Source Code Pro\", monospace;\n",
       "    font-size: 13px;\n",
       "    color: #555;\n",
       "    margin-left: 4px;\n",
       "    line-height: 19px;\n",
       "  }\n",
       "</style>\n",
       "<div class=\"ansiout\">Out[76]: &#39;134217728b&#39;</div>"
      ]
     },
     "metadata": {
      "application/vnd.databricks.v1+output": {
       "addedWidgets": {},
       "arguments": {},
       "data": "<div class=\"ansiout\">Out[76]: &#39;134217728b&#39;</div>",
       "datasetInfos": [],
       "metadata": {},
       "removedWidgets": [],
       "type": "html"
      }
     },
     "output_type": "display_data"
    }
   ],
   "source": [
    "spark.conf.get('spark.sql.files.maxPartitionBytes')"
   ]
  },
  {
   "cell_type": "code",
   "execution_count": 0,
   "metadata": {
    "application/vnd.databricks.v1+cell": {
     "cellMetadata": {},
     "inputWidgets": {},
     "nuid": "93202927-0f85-486d-9ea1-d35ff5b95d79",
     "showTitle": false,
     "title": ""
    }
   },
   "outputs": [
    {
     "output_type": "display_data",
     "data": {
      "text/html": [
       "<style scoped>\n",
       "  .ansiout {\n",
       "    display: block;\n",
       "    unicode-bidi: embed;\n",
       "    white-space: pre-wrap;\n",
       "    word-wrap: break-word;\n",
       "    word-break: break-all;\n",
       "    font-family: \"Menlo\", \"Monaco\", \"Consolas\", \"Ubuntu Mono\", \"Source Code Pro\", monospace;\n",
       "    font-size: 13px;\n",
       "    color: #555;\n",
       "    margin-left: 4px;\n",
       "    line-height: 19px;\n",
       "  }\n",
       "</style>\n",
       "<div class=\"ansiout\">Out[89]: 16</div>"
      ]
     },
     "metadata": {
      "application/vnd.databricks.v1+output": {
       "addedWidgets": {},
       "arguments": {},
       "data": "<div class=\"ansiout\">Out[89]: 16</div>",
       "datasetInfos": [],
       "metadata": {},
       "removedWidgets": [],
       "type": "html"
      }
     },
     "output_type": "display_data"
    }
   ],
   "source": [
    "data = [('shrikant', 25, 'satara', 63),\n",
    "       ('john', 45, 'UP', 92),\n",
    "       ('thomas', 35, 'Tokiyo', 43),\n",
    "       ('nancy', 15, None, 56),\n",
    "       ('rutu', 26, 'pune',None)]\n",
    "df6 = spark.createDataFrame(data = data, schema=['Name', 'Age', 'City', 'Marks'])\n",
    "df6.rdd.getNumPartitions()"
   ]
  },
  {
   "cell_type": "code",
   "execution_count": 0,
   "metadata": {
    "application/vnd.databricks.v1+cell": {
     "cellMetadata": {},
     "inputWidgets": {},
     "nuid": "a975de0e-fc76-41fb-b969-6d8bb93be668",
     "showTitle": false,
     "title": ""
    }
   },
   "outputs": [
    {
     "output_type": "display_data",
     "data": {
      "text/html": [
       "<style scoped>\n",
       "  .ansiout {\n",
       "    display: block;\n",
       "    unicode-bidi: embed;\n",
       "    white-space: pre-wrap;\n",
       "    word-wrap: break-word;\n",
       "    word-break: break-all;\n",
       "    font-family: \"Menlo\", \"Monaco\", \"Consolas\", \"Ubuntu Mono\", \"Source Code Pro\", monospace;\n",
       "    font-size: 13px;\n",
       "    color: #555;\n",
       "    margin-left: 4px;\n",
       "    line-height: 19px;\n",
       "  }\n",
       "</style>\n",
       "<div class=\"ansiout\"></div>"
      ]
     },
     "metadata": {
      "application/vnd.databricks.v1+output": {
       "addedWidgets": {},
       "arguments": {},
       "data": "<div class=\"ansiout\"></div>",
       "datasetInfos": [],
       "metadata": {},
       "removedWidgets": [],
       "type": "html"
      }
     },
     "output_type": "display_data"
    }
   ],
   "source": [
    "df6 = df6.rdd.glom()\n"
   ]
  },
  {
   "cell_type": "code",
   "execution_count": 0,
   "metadata": {
    "application/vnd.databricks.v1+cell": {
     "cellMetadata": {},
     "inputWidgets": {},
     "nuid": "2f0bd58d-c4f2-4429-8217-65e0796ca0d2",
     "showTitle": false,
     "title": ""
    }
   },
   "outputs": [
    {
     "output_type": "display_data",
     "data": {
      "text/html": [
       "<style scoped>\n",
       "  .ansiout {\n",
       "    display: block;\n",
       "    unicode-bidi: embed;\n",
       "    white-space: pre-wrap;\n",
       "    word-wrap: break-word;\n",
       "    word-break: break-all;\n",
       "    font-family: \"Menlo\", \"Monaco\", \"Consolas\", \"Ubuntu Mono\", \"Source Code Pro\", monospace;\n",
       "    font-size: 13px;\n",
       "    color: #555;\n",
       "    margin-left: 4px;\n",
       "    line-height: 19px;\n",
       "  }\n",
       "</style>\n",
       "<div class=\"ansiout\">Out[91]: [[Row(Name=&#39;shrikant&#39;, Age=25, City=&#39;satara&#39;, Marks=63),\n",
       "  Row(Name=&#39;thomas&#39;, Age=35, City=&#39;Tokiyo&#39;, Marks=43),\n",
       "  Row(Name=&#39;rutu&#39;, Age=26, City=&#39;pune&#39;, Marks=None),\n",
       "  Row(Name=&#39;john&#39;, Age=45, City=&#39;UP&#39;, Marks=92),\n",
       "  Row(Name=&#39;nancy&#39;, Age=15, City=None, Marks=56)],\n",
       " []]</div>"
      ]
     },
     "metadata": {
      "application/vnd.databricks.v1+output": {
       "addedWidgets": {},
       "arguments": {},
       "data": "<div class=\"ansiout\">Out[91]: [[Row(Name=&#39;shrikant&#39;, Age=25, City=&#39;satara&#39;, Marks=63),\n  Row(Name=&#39;thomas&#39;, Age=35, City=&#39;Tokiyo&#39;, Marks=43),\n  Row(Name=&#39;rutu&#39;, Age=26, City=&#39;pune&#39;, Marks=None),\n  Row(Name=&#39;john&#39;, Age=45, City=&#39;UP&#39;, Marks=92),\n  Row(Name=&#39;nancy&#39;, Age=15, City=None, Marks=56)],\n []]</div>",
       "datasetInfos": [],
       "metadata": {},
       "removedWidgets": [],
       "type": "html"
      }
     },
     "output_type": "display_data"
    }
   ],
   "source": [
    "df6 = df6.repartition(2)\n",
    "df6.rdd.glom().collect()"
   ]
  },
  {
   "cell_type": "code",
   "execution_count": 0,
   "metadata": {
    "application/vnd.databricks.v1+cell": {
     "cellMetadata": {},
     "inputWidgets": {},
     "nuid": "1e3dd1ee-c869-4438-8fa6-60d247deef47",
     "showTitle": false,
     "title": ""
    }
   },
   "outputs": [
    {
     "output_type": "display_data",
     "data": {
      "text/html": [
       "<style scoped>\n",
       "  .ansiout {\n",
       "    display: block;\n",
       "    unicode-bidi: embed;\n",
       "    white-space: pre-wrap;\n",
       "    word-wrap: break-word;\n",
       "    word-break: break-all;\n",
       "    font-family: \"Menlo\", \"Monaco\", \"Consolas\", \"Ubuntu Mono\", \"Source Code Pro\", monospace;\n",
       "    font-size: 13px;\n",
       "    color: #555;\n",
       "    margin-left: 4px;\n",
       "    line-height: 19px;\n",
       "  }\n",
       "</style>\n",
       "<div class=\"ansiout\">Out[92]: </div>"
      ]
     },
     "metadata": {
      "application/vnd.databricks.v1+output": {
       "addedWidgets": {},
       "arguments": {},
       "data": "<div class=\"ansiout\">Out[92]: </div>",
       "datasetInfos": [],
       "metadata": {},
       "removedWidgets": [],
       "type": "html"
      }
     },
     "output_type": "display_data"
    },
    {
     "output_type": "display_data",
     "data": {
      "text/html": [
       "<div>\n",
       "<style scoped>\n",
       "    .dataframe tbody tr th:only-of-type {\n",
       "        vertical-align: middle;\n",
       "    }\n",
       "\n",
       "    .dataframe tbody tr th {\n",
       "        vertical-align: top;\n",
       "    }\n",
       "\n",
       "    .dataframe thead th {\n",
       "        text-align: right;\n",
       "    }\n",
       "</style>\n",
       "<table border=\"1\" class=\"dataframe\">\n",
       "  <thead>\n",
       "    <tr style=\"text-align: right;\">\n",
       "      <th></th>\n",
       "      <th>Name</th>\n",
       "      <th>Age</th>\n",
       "      <th>City</th>\n",
       "      <th>Marks</th>\n",
       "    </tr>\n",
       "  </thead>\n",
       "  <tbody>\n",
       "    <tr>\n",
       "      <th>0</th>\n",
       "      <td>shrikant</td>\n",
       "      <td>25</td>\n",
       "      <td>satara</td>\n",
       "      <td>63.0</td>\n",
       "    </tr>\n",
       "    <tr>\n",
       "      <th>1</th>\n",
       "      <td>thomas</td>\n",
       "      <td>35</td>\n",
       "      <td>Tokiyo</td>\n",
       "      <td>43.0</td>\n",
       "    </tr>\n",
       "    <tr>\n",
       "      <th>2</th>\n",
       "      <td>rutu</td>\n",
       "      <td>26</td>\n",
       "      <td>pune</td>\n",
       "      <td>NaN</td>\n",
       "    </tr>\n",
       "    <tr>\n",
       "      <th>3</th>\n",
       "      <td>john</td>\n",
       "      <td>45</td>\n",
       "      <td>UP</td>\n",
       "      <td>92.0</td>\n",
       "    </tr>\n",
       "    <tr>\n",
       "      <th>4</th>\n",
       "      <td>nancy</td>\n",
       "      <td>15</td>\n",
       "      <td>None</td>\n",
       "      <td>56.0</td>\n",
       "    </tr>\n",
       "  </tbody>\n",
       "</table>\n",
       "</div>"
      ]
     },
     "metadata": {
      "application/vnd.databricks.v1+output": {
       "addedWidgets": {},
       "arguments": {},
       "data": "<div>\n<style scoped>\n    .dataframe tbody tr th:only-of-type {\n        vertical-align: middle;\n    }\n\n    .dataframe tbody tr th {\n        vertical-align: top;\n    }\n\n    .dataframe thead th {\n        text-align: right;\n    }\n</style>\n<table border=\"1\" class=\"dataframe\">\n  <thead>\n    <tr style=\"text-align: right;\">\n      <th></th>\n      <th>Name</th>\n      <th>Age</th>\n      <th>City</th>\n      <th>Marks</th>\n    </tr>\n  </thead>\n  <tbody>\n    <tr>\n      <th>0</th>\n      <td>shrikant</td>\n      <td>25</td>\n      <td>satara</td>\n      <td>63.0</td>\n    </tr>\n    <tr>\n      <th>1</th>\n      <td>thomas</td>\n      <td>35</td>\n      <td>Tokiyo</td>\n      <td>43.0</td>\n    </tr>\n    <tr>\n      <th>2</th>\n      <td>rutu</td>\n      <td>26</td>\n      <td>pune</td>\n      <td>NaN</td>\n    </tr>\n    <tr>\n      <th>3</th>\n      <td>john</td>\n      <td>45</td>\n      <td>UP</td>\n      <td>92.0</td>\n    </tr>\n    <tr>\n      <th>4</th>\n      <td>nancy</td>\n      <td>15</td>\n      <td>None</td>\n      <td>56.0</td>\n    </tr>\n  </tbody>\n</table>\n</div>",
       "datasetInfos": [],
       "metadata": {},
       "removedWidgets": [],
       "textData": null,
       "type": "htmlSandbox"
      }
     },
     "output_type": "display_data"
    }
   ],
   "source": [
    "df6 =df6.toPandas()\n",
    "df6"
   ]
  },
  {
   "cell_type": "code",
   "execution_count": 0,
   "metadata": {
    "application/vnd.databricks.v1+cell": {
     "cellMetadata": {},
     "inputWidgets": {},
     "nuid": "a9da04eb-4e36-4157-85aa-f777aa1a2a91",
     "showTitle": false,
     "title": ""
    }
   },
   "outputs": [],
   "source": []
  }
 ],
 "metadata": {
  "application/vnd.databricks.v1+notebook": {
   "dashboards": [],
   "language": "python",
   "notebookMetadata": {
    "pythonIndentUnit": 2
   },
   "notebookName": "pyspark functions",
   "widgets": {}
  }
 },
 "nbformat": 4,
 "nbformat_minor": 0
}
