{
 "cells": [
  {
   "cell_type": "code",
   "execution_count": 0,
   "metadata": {
    "application/vnd.databricks.v1+cell": {
     "cellMetadata": {},
     "inputWidgets": {},
     "nuid": "e4aa27d1-fcbe-47f4-859c-ec537589e1ba",
     "showTitle": false,
     "title": ""
    }
   },
   "outputs": [
    {
     "output_type": "display_data",
     "data": {
      "text/html": [
       "<style scoped>\n",
       "  .ansiout {\n",
       "    display: block;\n",
       "    unicode-bidi: embed;\n",
       "    white-space: pre-wrap;\n",
       "    word-wrap: break-word;\n",
       "    word-break: break-all;\n",
       "    font-family: \"Menlo\", \"Monaco\", \"Consolas\", \"Ubuntu Mono\", \"Source Code Pro\", monospace;\n",
       "    font-size: 13px;\n",
       "    color: #555;\n",
       "    margin-left: 4px;\n",
       "    line-height: 19px;\n",
       "  }\n",
       "</style>\n",
       "<div class=\"ansiout\"></div>"
      ]
     },
     "metadata": {
      "application/vnd.databricks.v1+output": {
       "addedWidgets": {},
       "arguments": {},
       "data": "<div class=\"ansiout\"></div>",
       "datasetInfos": [],
       "metadata": {},
       "removedWidgets": [],
       "type": "html"
      }
     },
     "output_type": "display_data"
    }
   ],
   "source": [
    "## create new dataframe"
   ]
  },
  {
   "cell_type": "code",
   "execution_count": 0,
   "metadata": {
    "application/vnd.databricks.v1+cell": {
     "cellMetadata": {},
     "inputWidgets": {},
     "nuid": "6a811539-0fb8-4dc5-b639-a45db2139bee",
     "showTitle": false,
     "title": ""
    }
   },
   "outputs": [
    {
     "output_type": "display_data",
     "data": {
      "text/html": [
       "<style scoped>\n",
       "  .ansiout {\n",
       "    display: block;\n",
       "    unicode-bidi: embed;\n",
       "    white-space: pre-wrap;\n",
       "    word-wrap: break-word;\n",
       "    word-break: break-all;\n",
       "    font-family: \"Menlo\", \"Monaco\", \"Consolas\", \"Ubuntu Mono\", \"Source Code Pro\", monospace;\n",
       "    font-size: 13px;\n",
       "    color: #555;\n",
       "    margin-left: 4px;\n",
       "    line-height: 19px;\n",
       "  }\n",
       "</style>\n",
       "<div class=\"ansiout\"></div>"
      ]
     },
     "metadata": {
      "application/vnd.databricks.v1+output": {
       "addedWidgets": {},
       "arguments": {},
       "data": "<div class=\"ansiout\"></div>",
       "datasetInfos": [],
       "metadata": {},
       "removedWidgets": [],
       "type": "html"
      }
     },
     "output_type": "display_data"
    }
   ],
   "source": [
    "from pyspark.sql.types import StructType, StructField, StringType, IntegerType"
   ]
  },
  {
   "cell_type": "code",
   "execution_count": 0,
   "metadata": {
    "application/vnd.databricks.v1+cell": {
     "cellMetadata": {},
     "inputWidgets": {},
     "nuid": "bd2c9bae-6052-411a-b05a-ec0c3550e4fa",
     "showTitle": false,
     "title": ""
    }
   },
   "outputs": [
    {
     "output_type": "display_data",
     "data": {
      "text/html": [
       "<style scoped>\n",
       "  .ansiout {\n",
       "    display: block;\n",
       "    unicode-bidi: embed;\n",
       "    white-space: pre-wrap;\n",
       "    word-wrap: break-word;\n",
       "    word-break: break-all;\n",
       "    font-family: \"Menlo\", \"Monaco\", \"Consolas\", \"Ubuntu Mono\", \"Source Code Pro\", monospace;\n",
       "    font-size: 13px;\n",
       "    color: #555;\n",
       "    margin-left: 4px;\n",
       "    line-height: 19px;\n",
       "  }\n",
       "</style>\n",
       "<div class=\"ansiout\"></div>"
      ]
     },
     "metadata": {
      "application/vnd.databricks.v1+output": {
       "addedWidgets": {},
       "arguments": {},
       "data": "<div class=\"ansiout\"></div>",
       "datasetInfos": [],
       "metadata": {},
       "removedWidgets": [],
       "type": "html"
      }
     },
     "output_type": "display_data"
    }
   ],
   "source": [
    "schema = StructType([\\\n",
    "  StructField('Name', StringType(), True), \\\n",
    "  StructField('Age', IntegerType(), True), \\\n",
    "  StructField('Salary', IntegerType(), True), \\\n",
    "  StructField('Language', StringType(), True) \\\n",
    "                    ])"
   ]
  },
  {
   "cell_type": "code",
   "execution_count": 0,
   "metadata": {
    "application/vnd.databricks.v1+cell": {
     "cellMetadata": {},
     "inputWidgets": {},
     "nuid": "f55f9434-d7e8-4fc3-ba0c-cb91266655c6",
     "showTitle": false,
     "title": ""
    }
   },
   "outputs": [
    {
     "output_type": "display_data",
     "data": {
      "text/html": [
       "<style scoped>\n",
       "  .ansiout {\n",
       "    display: block;\n",
       "    unicode-bidi: embed;\n",
       "    white-space: pre-wrap;\n",
       "    word-wrap: break-word;\n",
       "    word-break: break-all;\n",
       "    font-family: \"Menlo\", \"Monaco\", \"Consolas\", \"Ubuntu Mono\", \"Source Code Pro\", monospace;\n",
       "    font-size: 13px;\n",
       "    color: #555;\n",
       "    margin-left: 4px;\n",
       "    line-height: 19px;\n",
       "  }\n",
       "</style>\n",
       "<div class=\"ansiout\"></div>"
      ]
     },
     "metadata": {
      "application/vnd.databricks.v1+output": {
       "addedWidgets": {},
       "arguments": {},
       "data": "<div class=\"ansiout\"></div>",
       "datasetInfos": [],
       "metadata": {},
       "removedWidgets": [],
       "type": "html"
      }
     },
     "output_type": "display_data"
    }
   ],
   "source": [
    "records = [('Shrikant Shejwal', 21, 15000, 'English'),\n",
    "          ('Amol More', 25, 55000, 'Marathi'),\n",
    "          ('Vishakha Ghadge', 22, 25000, 'English'),\n",
    "          ('Vishal Chavan', 27, 25000, 'Marathi'),\n",
    "          ('Sanket Yewale', 23, 23000, 'English')]"
   ]
  },
  {
   "cell_type": "code",
   "execution_count": 0,
   "metadata": {
    "application/vnd.databricks.v1+cell": {
     "cellMetadata": {},
     "inputWidgets": {},
     "nuid": "8cc9b308-b841-466c-a5cd-fe00032f78c9",
     "showTitle": false,
     "title": ""
    }
   },
   "outputs": [
    {
     "output_type": "display_data",
     "data": {
      "text/html": [
       "<style scoped>\n",
       "  .ansiout {\n",
       "    display: block;\n",
       "    unicode-bidi: embed;\n",
       "    white-space: pre-wrap;\n",
       "    word-wrap: break-word;\n",
       "    word-break: break-all;\n",
       "    font-family: \"Menlo\", \"Monaco\", \"Consolas\", \"Ubuntu Mono\", \"Source Code Pro\", monospace;\n",
       "    font-size: 13px;\n",
       "    color: #555;\n",
       "    margin-left: 4px;\n",
       "    line-height: 19px;\n",
       "  }\n",
       "</style>\n",
       "<div class=\"ansiout\">+----------------+---+------+--------+\n",
       "            Name|Age|Salary|Language|\n",
       "+----------------+---+------+--------+\n",
       "Shrikant Shejwal| 21| 15000| English|\n",
       "       Amol More| 25| 55000| Marathi|\n",
       " Vishakha Ghadge| 22| 25000| English|\n",
       "   Vishal Chavan| 27| 25000| Marathi|\n",
       "   Sanket Yewale| 23| 23000| English|\n",
       "+----------------+---+------+--------+\n",
       "\n",
       "</div>"
      ]
     },
     "metadata": {
      "application/vnd.databricks.v1+output": {
       "addedWidgets": {},
       "arguments": {},
       "data": "<div class=\"ansiout\">+----------------+---+------+--------+\n|            Name|Age|Salary|Language|\n+----------------+---+------+--------+\n|Shrikant Shejwal| 21| 15000| English|\n|       Amol More| 25| 55000| Marathi|\n| Vishakha Ghadge| 22| 25000| English|\n|   Vishal Chavan| 27| 25000| Marathi|\n|   Sanket Yewale| 23| 23000| English|\n+----------------+---+------+--------+\n\n</div>",
       "datasetInfos": [],
       "metadata": {},
       "removedWidgets": [],
       "type": "html"
      }
     },
     "output_type": "display_data"
    }
   ],
   "source": [
    "data = spark.createDataFrame(data = records, schema = schema)\n",
    "data.show()"
   ]
  },
  {
   "cell_type": "code",
   "execution_count": 0,
   "metadata": {
    "application/vnd.databricks.v1+cell": {
     "cellMetadata": {},
     "inputWidgets": {},
     "nuid": "61167a0e-72a4-4d0e-9ae4-7331b2ab104d",
     "showTitle": false,
     "title": ""
    }
   },
   "outputs": [
    {
     "output_type": "display_data",
     "data": {
      "text/html": [
       "<style scoped>\n",
       "  .ansiout {\n",
       "    display: block;\n",
       "    unicode-bidi: embed;\n",
       "    white-space: pre-wrap;\n",
       "    word-wrap: break-word;\n",
       "    word-break: break-all;\n",
       "    font-family: \"Menlo\", \"Monaco\", \"Consolas\", \"Ubuntu Mono\", \"Source Code Pro\", monospace;\n",
       "    font-size: 13px;\n",
       "    color: #555;\n",
       "    margin-left: 4px;\n",
       "    line-height: 19px;\n",
       "  }\n",
       "</style>\n",
       "<div class=\"ansiout\">Out[55]: 5</div>"
      ]
     },
     "metadata": {
      "application/vnd.databricks.v1+output": {
       "addedWidgets": {},
       "arguments": {},
       "data": "<div class=\"ansiout\">Out[55]: 5</div>",
       "datasetInfos": [],
       "metadata": {},
       "removedWidgets": [],
       "type": "html"
      }
     },
     "output_type": "display_data"
    }
   ],
   "source": [
    "data.count()"
   ]
  },
  {
   "cell_type": "code",
   "execution_count": 0,
   "metadata": {
    "application/vnd.databricks.v1+cell": {
     "cellMetadata": {},
     "inputWidgets": {},
     "nuid": "9c4060a0-b59f-476b-86c5-a8ed99d2f530",
     "showTitle": false,
     "title": ""
    }
   },
   "outputs": [
    {
     "output_type": "display_data",
     "data": {
      "text/html": [
       "<style scoped>\n",
       "  .ansiout {\n",
       "    display: block;\n",
       "    unicode-bidi: embed;\n",
       "    white-space: pre-wrap;\n",
       "    word-wrap: break-word;\n",
       "    word-break: break-all;\n",
       "    font-family: \"Menlo\", \"Monaco\", \"Consolas\", \"Ubuntu Mono\", \"Source Code Pro\", monospace;\n",
       "    font-size: 13px;\n",
       "    color: #555;\n",
       "    margin-left: 4px;\n",
       "    line-height: 19px;\n",
       "  }\n",
       "</style>\n",
       "<div class=\"ansiout\">root\n",
       "-- Name: string (nullable = true)\n",
       "-- Age: integer (nullable = true)\n",
       "-- Salary: integer (nullable = true)\n",
       "-- Language: string (nullable = true)\n",
       "\n",
       "</div>"
      ]
     },
     "metadata": {
      "application/vnd.databricks.v1+output": {
       "addedWidgets": {},
       "arguments": {},
       "data": "<div class=\"ansiout\">root\n |-- Name: string (nullable = true)\n |-- Age: integer (nullable = true)\n |-- Salary: integer (nullable = true)\n |-- Language: string (nullable = true)\n\n</div>",
       "datasetInfos": [],
       "metadata": {},
       "removedWidgets": [],
       "type": "html"
      }
     },
     "output_type": "display_data"
    }
   ],
   "source": [
    "data.printSchema()"
   ]
  },
  {
   "cell_type": "code",
   "execution_count": 0,
   "metadata": {
    "application/vnd.databricks.v1+cell": {
     "cellMetadata": {},
     "inputWidgets": {},
     "nuid": "7b77ffa8-ea7c-4b73-aa15-c5c4c791b8d3",
     "showTitle": false,
     "title": ""
    }
   },
   "outputs": [
    {
     "output_type": "display_data",
     "data": {
      "text/html": [
       "<style scoped>\n",
       "  .ansiout {\n",
       "    display: block;\n",
       "    unicode-bidi: embed;\n",
       "    white-space: pre-wrap;\n",
       "    word-wrap: break-word;\n",
       "    word-break: break-all;\n",
       "    font-family: \"Menlo\", \"Monaco\", \"Consolas\", \"Ubuntu Mono\", \"Source Code Pro\", monospace;\n",
       "    font-size: 13px;\n",
       "    color: #555;\n",
       "    margin-left: 4px;\n",
       "    line-height: 19px;\n",
       "  }\n",
       "</style>\n",
       "<div class=\"ansiout\">Out[7]: [Row(Name=&#39;Shrikant Shejwal&#39;, Age=21, Salary=15000, Language=&#39;English&#39;),\n",
       " Row(Name=&#39;Amol More&#39;, Age=25, Salary=55000, Language=&#39;Marathi&#39;),\n",
       " Row(Name=&#39;Vishakha Ghadge&#39;, Age=22, Salary=25000, Language=&#39;English&#39;),\n",
       " Row(Name=&#39;Vishal Chavan&#39;, Age=27, Salary=25000, Language=&#39;Marathi&#39;),\n",
       " Row(Name=&#39;Sanket Yewale&#39;, Age=23, Salary=23000, Language=&#39;English&#39;)]</div>"
      ]
     },
     "metadata": {
      "application/vnd.databricks.v1+output": {
       "addedWidgets": {},
       "arguments": {},
       "data": "<div class=\"ansiout\">Out[7]: [Row(Name=&#39;Shrikant Shejwal&#39;, Age=21, Salary=15000, Language=&#39;English&#39;),\n Row(Name=&#39;Amol More&#39;, Age=25, Salary=55000, Language=&#39;Marathi&#39;),\n Row(Name=&#39;Vishakha Ghadge&#39;, Age=22, Salary=25000, Language=&#39;English&#39;),\n Row(Name=&#39;Vishal Chavan&#39;, Age=27, Salary=25000, Language=&#39;Marathi&#39;),\n Row(Name=&#39;Sanket Yewale&#39;, Age=23, Salary=23000, Language=&#39;English&#39;)]</div>",
       "datasetInfos": [],
       "metadata": {},
       "removedWidgets": [],
       "type": "html"
      }
     },
     "output_type": "display_data"
    }
   ],
   "source": [
    "data.collect()"
   ]
  },
  {
   "cell_type": "code",
   "execution_count": 0,
   "metadata": {
    "application/vnd.databricks.v1+cell": {
     "cellMetadata": {},
     "inputWidgets": {},
     "nuid": "bfcfeef9-3f72-40b4-914d-c946d2bdf177",
     "showTitle": false,
     "title": ""
    }
   },
   "outputs": [
    {
     "output_type": "display_data",
     "data": {
      "text/html": [
       "<style scoped>\n",
       "  .ansiout {\n",
       "    display: block;\n",
       "    unicode-bidi: embed;\n",
       "    white-space: pre-wrap;\n",
       "    word-wrap: break-word;\n",
       "    word-break: break-all;\n",
       "    font-family: \"Menlo\", \"Monaco\", \"Consolas\", \"Ubuntu Mono\", \"Source Code Pro\", monospace;\n",
       "    font-size: 13px;\n",
       "    color: #555;\n",
       "    margin-left: 4px;\n",
       "    line-height: 19px;\n",
       "  }\n",
       "</style>\n",
       "<div class=\"ansiout\">root\n",
       "-- Name: string (nullable = true)\n",
       "-- Age: string (nullable = true)\n",
       "-- Salary: integer (nullable = true)\n",
       "-- Language: string (nullable = true)\n",
       "\n",
       "</div>"
      ]
     },
     "metadata": {
      "application/vnd.databricks.v1+output": {
       "addedWidgets": {},
       "arguments": {},
       "data": "<div class=\"ansiout\">root\n |-- Name: string (nullable = true)\n |-- Age: string (nullable = true)\n |-- Salary: integer (nullable = true)\n |-- Language: string (nullable = true)\n\n</div>",
       "datasetInfos": [],
       "metadata": {},
       "removedWidgets": [],
       "type": "html"
      }
     },
     "output_type": "display_data"
    }
   ],
   "source": [
    "## change data type of existing column using withColumn()\n",
    "from pyspark.sql.functions import col\n",
    "data.withColumn('Age', col('Age').cast(\"String\")).printSchema()"
   ]
  },
  {
   "cell_type": "code",
   "execution_count": 0,
   "metadata": {
    "application/vnd.databricks.v1+cell": {
     "cellMetadata": {},
     "inputWidgets": {},
     "nuid": "20b8ab43-ab92-42d3-ae46-f9e384e9afb3",
     "showTitle": false,
     "title": ""
    }
   },
   "outputs": [
    {
     "output_type": "display_data",
     "data": {
      "text/html": [
       "<style scoped>\n",
       "  .ansiout {\n",
       "    display: block;\n",
       "    unicode-bidi: embed;\n",
       "    white-space: pre-wrap;\n",
       "    word-wrap: break-word;\n",
       "    word-break: break-all;\n",
       "    font-family: \"Menlo\", \"Monaco\", \"Consolas\", \"Ubuntu Mono\", \"Source Code Pro\", monospace;\n",
       "    font-size: 13px;\n",
       "    color: #555;\n",
       "    margin-left: 4px;\n",
       "    line-height: 19px;\n",
       "  }\n",
       "</style>\n",
       "<div class=\"ansiout\">+----------------+---+------+--------+-----------------+\n",
       "            Name|Age|Salary|Language|Age After 2 years|\n",
       "+----------------+---+------+--------+-----------------+\n",
       "Shrikant Shejwal| 21| 15000| English|               23|\n",
       "       Amol More| 25| 55000| Marathi|               27|\n",
       " Vishakha Ghadge| 22| 25000| English|               24|\n",
       "   Vishal Chavan| 27| 25000| Marathi|               29|\n",
       "   Sanket Yewale| 23| 23000| English|               25|\n",
       "+----------------+---+------+--------+-----------------+\n",
       "\n",
       "</div>"
      ]
     },
     "metadata": {
      "application/vnd.databricks.v1+output": {
       "addedWidgets": {},
       "arguments": {},
       "data": "<div class=\"ansiout\">+----------------+---+------+--------+-----------------+\n|            Name|Age|Salary|Language|Age After 2 years|\n+----------------+---+------+--------+-----------------+\n|Shrikant Shejwal| 21| 15000| English|               23|\n|       Amol More| 25| 55000| Marathi|               27|\n| Vishakha Ghadge| 22| 25000| English|               24|\n|   Vishal Chavan| 27| 25000| Marathi|               29|\n|   Sanket Yewale| 23| 23000| English|               25|\n+----------------+---+------+--------+-----------------+\n\n</div>",
       "datasetInfos": [],
       "metadata": {},
       "removedWidgets": [],
       "type": "html"
      }
     },
     "output_type": "display_data"
    }
   ],
   "source": [
    "## add new column using withColumn()\n",
    "data.withColumn('Age After 2 years', col('Age')+2).show()"
   ]
  },
  {
   "cell_type": "code",
   "execution_count": 0,
   "metadata": {
    "application/vnd.databricks.v1+cell": {
     "cellMetadata": {},
     "inputWidgets": {},
     "nuid": "a0b49155-8c40-4e90-b13f-fc8f1876e36f",
     "showTitle": false,
     "title": ""
    }
   },
   "outputs": [
    {
     "output_type": "display_data",
     "data": {
      "text/html": [
       "<style scoped>\n",
       "  .ansiout {\n",
       "    display: block;\n",
       "    unicode-bidi: embed;\n",
       "    white-space: pre-wrap;\n",
       "    word-wrap: break-word;\n",
       "    word-break: break-all;\n",
       "    font-family: \"Menlo\", \"Monaco\", \"Consolas\", \"Ubuntu Mono\", \"Source Code Pro\", monospace;\n",
       "    font-size: 13px;\n",
       "    color: #555;\n",
       "    margin-left: 4px;\n",
       "    line-height: 19px;\n",
       "  }\n",
       "</style>\n",
       "<div class=\"ansiout\">+----------------+---+------+--------+\n",
       "            Name|Age|Salary|Language|\n",
       "+----------------+---+------+--------+\n",
       "Shrikant Shejwal| 21| 30000| English|\n",
       "       Amol More| 25|110000| Marathi|\n",
       " Vishakha Ghadge| 22| 50000| English|\n",
       "   Vishal Chavan| 27| 50000| Marathi|\n",
       "   Sanket Yewale| 23| 46000| English|\n",
       "+----------------+---+------+--------+\n",
       "\n",
       "</div>"
      ]
     },
     "metadata": {
      "application/vnd.databricks.v1+output": {
       "addedWidgets": {},
       "arguments": {},
       "data": "<div class=\"ansiout\">+----------------+---+------+--------+\n|            Name|Age|Salary|Language|\n+----------------+---+------+--------+\n|Shrikant Shejwal| 21| 30000| English|\n|       Amol More| 25|110000| Marathi|\n| Vishakha Ghadge| 22| 50000| English|\n|   Vishal Chavan| 27| 50000| Marathi|\n|   Sanket Yewale| 23| 46000| English|\n+----------------+---+------+--------+\n\n</div>",
       "datasetInfos": [],
       "metadata": {},
       "removedWidgets": [],
       "type": "html"
      }
     },
     "output_type": "display_data"
    }
   ],
   "source": [
    "## update values in existing column\n",
    "data.withColumn('Salary', col('Salary')*2).show()"
   ]
  },
  {
   "cell_type": "code",
   "execution_count": 0,
   "metadata": {
    "application/vnd.databricks.v1+cell": {
     "cellMetadata": {},
     "inputWidgets": {},
     "nuid": "e781ffaf-4a40-4f52-890e-0f4f04365770",
     "showTitle": false,
     "title": ""
    }
   },
   "outputs": [
    {
     "output_type": "display_data",
     "data": {
      "text/html": [
       "<style scoped>\n",
       "  .ansiout {\n",
       "    display: block;\n",
       "    unicode-bidi: embed;\n",
       "    white-space: pre-wrap;\n",
       "    word-wrap: break-word;\n",
       "    word-break: break-all;\n",
       "    font-family: \"Menlo\", \"Monaco\", \"Consolas\", \"Ubuntu Mono\", \"Source Code Pro\", monospace;\n",
       "    font-size: 13px;\n",
       "    color: #555;\n",
       "    margin-left: 4px;\n",
       "    line-height: 19px;\n",
       "  }\n",
       "</style>\n",
       "<div class=\"ansiout\">+----------------+---+--------+--------+\n",
       "       Full Name|Age|Stipened|Language|\n",
       "+----------------+---+--------+--------+\n",
       "Shrikant Shejwal| 21|   15000| English|\n",
       "       Amol More| 25|   55000| Marathi|\n",
       " Vishakha Ghadge| 22|   25000| English|\n",
       "   Vishal Chavan| 27|   25000| Marathi|\n",
       "   Sanket Yewale| 23|   23000| English|\n",
       "+----------------+---+--------+--------+\n",
       "\n",
       "</div>"
      ]
     },
     "metadata": {
      "application/vnd.databricks.v1+output": {
       "addedWidgets": {},
       "arguments": {},
       "data": "<div class=\"ansiout\">+----------------+---+--------+--------+\n|       Full Name|Age|Stipened|Language|\n+----------------+---+--------+--------+\n|Shrikant Shejwal| 21|   15000| English|\n|       Amol More| 25|   55000| Marathi|\n| Vishakha Ghadge| 22|   25000| English|\n|   Vishal Chavan| 27|   25000| Marathi|\n|   Sanket Yewale| 23|   23000| English|\n+----------------+---+--------+--------+\n\n</div>",
       "datasetInfos": [],
       "metadata": {},
       "removedWidgets": [],
       "type": "html"
      }
     },
     "output_type": "display_data"
    }
   ],
   "source": [
    "## rename column name withColumnRenamed()\n",
    "data.withColumnRenamed('Salary', 'Stipened').withColumnRenamed('Name', 'Full Name').show()"
   ]
  },
  {
   "cell_type": "code",
   "execution_count": 0,
   "metadata": {
    "application/vnd.databricks.v1+cell": {
     "cellMetadata": {},
     "inputWidgets": {},
     "nuid": "bdb44ef9-b767-45f4-8ef3-c89184c4ab50",
     "showTitle": false,
     "title": ""
    }
   },
   "outputs": [
    {
     "output_type": "display_data",
     "data": {
      "text/html": [
       "<style scoped>\n",
       "  .ansiout {\n",
       "    display: block;\n",
       "    unicode-bidi: embed;\n",
       "    white-space: pre-wrap;\n",
       "    word-wrap: break-word;\n",
       "    word-break: break-all;\n",
       "    font-family: \"Menlo\", \"Monaco\", \"Consolas\", \"Ubuntu Mono\", \"Source Code Pro\", monospace;\n",
       "    font-size: 13px;\n",
       "    color: #555;\n",
       "    margin-left: 4px;\n",
       "    line-height: 19px;\n",
       "  }\n",
       "</style>\n",
       "<div class=\"ansiout\">+----------------+---+------+\n",
       "            Name|Age|Salary|\n",
       "+----------------+---+------+\n",
       "Shrikant Shejwal| 21| 15000|\n",
       "       Amol More| 25| 55000|\n",
       " Vishakha Ghadge| 22| 25000|\n",
       "   Vishal Chavan| 27| 25000|\n",
       "   Sanket Yewale| 23| 23000|\n",
       "+----------------+---+------+\n",
       "\n",
       "</div>"
      ]
     },
     "metadata": {
      "application/vnd.databricks.v1+output": {
       "addedWidgets": {},
       "arguments": {},
       "data": "<div class=\"ansiout\">+----------------+---+------+\n|            Name|Age|Salary|\n+----------------+---+------+\n|Shrikant Shejwal| 21| 15000|\n|       Amol More| 25| 55000|\n| Vishakha Ghadge| 22| 25000|\n|   Vishal Chavan| 27| 25000|\n|   Sanket Yewale| 23| 23000|\n+----------------+---+------+\n\n</div>",
       "datasetInfos": [],
       "metadata": {},
       "removedWidgets": [],
       "type": "html"
      }
     },
     "output_type": "display_data"
    }
   ],
   "source": [
    "## drop column\n",
    "data.drop('Language').show()"
   ]
  },
  {
   "cell_type": "code",
   "execution_count": 0,
   "metadata": {
    "application/vnd.databricks.v1+cell": {
     "cellMetadata": {},
     "inputWidgets": {},
     "nuid": "1d1ec37f-f057-4197-9d0e-502953a26211",
     "showTitle": false,
     "title": ""
    }
   },
   "outputs": [
    {
     "output_type": "display_data",
     "data": {
      "text/html": [
       "<style scoped>\n",
       "  .ansiout {\n",
       "    display: block;\n",
       "    unicode-bidi: embed;\n",
       "    white-space: pre-wrap;\n",
       "    word-wrap: break-word;\n",
       "    word-break: break-all;\n",
       "    font-family: \"Menlo\", \"Monaco\", \"Consolas\", \"Ubuntu Mono\", \"Source Code Pro\", monospace;\n",
       "    font-size: 13px;\n",
       "    color: #555;\n",
       "    margin-left: 4px;\n",
       "    line-height: 19px;\n",
       "  }\n",
       "</style>\n",
       "<div class=\"ansiout\">+----------------+---+------+--------+\n",
       "            Name|Age|Salary|Language|\n",
       "+----------------+---+------+--------+\n",
       "Shrikant Shejwal| 21| 15000| English|\n",
       " Vishakha Ghadge| 22| 25000| English|\n",
       "   Sanket Yewale| 23| 23000| English|\n",
       "       Amol More| 25| 55000| Marathi|\n",
       "   Vishal Chavan| 27| 25000| Marathi|\n",
       "+----------------+---+------+--------+\n",
       "\n",
       "</div>"
      ]
     },
     "metadata": {
      "application/vnd.databricks.v1+output": {
       "addedWidgets": {},
       "arguments": {},
       "data": "<div class=\"ansiout\">+----------------+---+------+--------+\n|            Name|Age|Salary|Language|\n+----------------+---+------+--------+\n|Shrikant Shejwal| 21| 15000| English|\n| Vishakha Ghadge| 22| 25000| English|\n|   Sanket Yewale| 23| 23000| English|\n|       Amol More| 25| 55000| Marathi|\n|   Vishal Chavan| 27| 25000| Marathi|\n+----------------+---+------+--------+\n\n</div>",
       "datasetInfos": [],
       "metadata": {},
       "removedWidgets": [],
       "type": "html"
      }
     },
     "output_type": "display_data"
    }
   ],
   "source": [
    "## orderBy()\n",
    "data.orderBy(col('Age').asc()).show()"
   ]
  },
  {
   "cell_type": "code",
   "execution_count": 0,
   "metadata": {
    "application/vnd.databricks.v1+cell": {
     "cellMetadata": {},
     "inputWidgets": {},
     "nuid": "afe43acd-6a99-4e4b-9474-9d3c0022c9b2",
     "showTitle": false,
     "title": ""
    }
   },
   "outputs": [
    {
     "output_type": "display_data",
     "data": {
      "text/html": [
       "<style scoped>\n",
       "  .ansiout {\n",
       "    display: block;\n",
       "    unicode-bidi: embed;\n",
       "    white-space: pre-wrap;\n",
       "    word-wrap: break-word;\n",
       "    word-break: break-all;\n",
       "    font-family: \"Menlo\", \"Monaco\", \"Consolas\", \"Ubuntu Mono\", \"Source Code Pro\", monospace;\n",
       "    font-size: 13px;\n",
       "    color: #555;\n",
       "    margin-left: 4px;\n",
       "    line-height: 19px;\n",
       "  }\n",
       "</style>\n",
       "<div class=\"ansiout\">+----------------+---+------+--------+\n",
       "            Name|Age|Salary|Language|\n",
       "+----------------+---+------+--------+\n",
       "   Vishal Chavan| 27| 25000| Marathi|\n",
       " Vishakha Ghadge| 22| 25000| English|\n",
       "Shrikant Shejwal| 21| 15000| English|\n",
       "   Sanket Yewale| 23| 23000| English|\n",
       "       Amol More| 25| 55000| Marathi|\n",
       "+----------------+---+------+--------+\n",
       "\n",
       "</div>"
      ]
     },
     "metadata": {
      "application/vnd.databricks.v1+output": {
       "addedWidgets": {},
       "arguments": {},
       "data": "<div class=\"ansiout\">+----------------+---+------+--------+\n|            Name|Age|Salary|Language|\n+----------------+---+------+--------+\n|   Vishal Chavan| 27| 25000| Marathi|\n| Vishakha Ghadge| 22| 25000| English|\n|Shrikant Shejwal| 21| 15000| English|\n|   Sanket Yewale| 23| 23000| English|\n|       Amol More| 25| 55000| Marathi|\n+----------------+---+------+--------+\n\n</div>",
       "datasetInfos": [],
       "metadata": {},
       "removedWidgets": [],
       "type": "html"
      }
     },
     "output_type": "display_data"
    }
   ],
   "source": [
    "## using sort()\n",
    "data.sort(data.Name.desc()).show()"
   ]
  },
  {
   "cell_type": "code",
   "execution_count": 0,
   "metadata": {
    "application/vnd.databricks.v1+cell": {
     "cellMetadata": {},
     "inputWidgets": {},
     "nuid": "a6ee765f-4e71-4d1a-960a-14cedbe4cbf5",
     "showTitle": false,
     "title": ""
    }
   },
   "outputs": [
    {
     "output_type": "display_data",
     "data": {
      "text/html": [
       "<style scoped>\n",
       "  .ansiout {\n",
       "    display: block;\n",
       "    unicode-bidi: embed;\n",
       "    white-space: pre-wrap;\n",
       "    word-wrap: break-word;\n",
       "    word-break: break-all;\n",
       "    font-family: \"Menlo\", \"Monaco\", \"Consolas\", \"Ubuntu Mono\", \"Source Code Pro\", monospace;\n",
       "    font-size: 13px;\n",
       "    color: #555;\n",
       "    margin-left: 4px;\n",
       "    line-height: 19px;\n",
       "  }\n",
       "</style>\n",
       "<div class=\"ansiout\">+---------------+---+------+--------+\n",
       "           Name|Age|Salary|Language|\n",
       "+---------------+---+------+--------+\n",
       "      Amol More| 25| 55000| Marathi|\n",
       "Vishakha Ghadge| 22| 25000| English|\n",
       "  Vishal Chavan| 27| 25000| Marathi|\n",
       "  Sanket Yewale| 23| 23000| English|\n",
       "+---------------+---+------+--------+\n",
       "\n",
       "===============================================\n",
       "+----------------+---+------+--------+\n",
       "            Name|Age|Salary|Language|\n",
       "+----------------+---+------+--------+\n",
       "Shrikant Shejwal| 21| 15000| English|\n",
       "+----------------+---+------+--------+\n",
       "\n",
       "</div>"
      ]
     },
     "metadata": {
      "application/vnd.databricks.v1+output": {
       "addedWidgets": {},
       "arguments": {},
       "data": "<div class=\"ansiout\">+---------------+---+------+--------+\n|           Name|Age|Salary|Language|\n+---------------+---+------+--------+\n|      Amol More| 25| 55000| Marathi|\n|Vishakha Ghadge| 22| 25000| English|\n|  Vishal Chavan| 27| 25000| Marathi|\n|  Sanket Yewale| 23| 23000| English|\n+---------------+---+------+--------+\n\n===============================================\n+----------------+---+------+--------+\n|            Name|Age|Salary|Language|\n+----------------+---+------+--------+\n|Shrikant Shejwal| 21| 15000| English|\n+----------------+---+------+--------+\n\n</div>",
       "datasetInfos": [],
       "metadata": {},
       "removedWidgets": [],
       "type": "html"
      }
     },
     "output_type": "display_data"
    }
   ],
   "source": [
    "## where() and filter() => working of both function is same| \n",
    "data.where(data.Age>=22).show()\n",
    "print('===============================================')\n",
    "data.filter(data.Name=='Shrikant Shejwal').show()"
   ]
  },
  {
   "cell_type": "code",
   "execution_count": 0,
   "metadata": {
    "application/vnd.databricks.v1+cell": {
     "cellMetadata": {},
     "inputWidgets": {},
     "nuid": "d9ffe134-30d6-4019-a09a-5e53f7dab827",
     "showTitle": false,
     "title": ""
    }
   },
   "outputs": [
    {
     "output_type": "display_data",
     "data": {
      "text/html": [
       "<style scoped>\n",
       "  .ansiout {\n",
       "    display: block;\n",
       "    unicode-bidi: embed;\n",
       "    white-space: pre-wrap;\n",
       "    word-wrap: break-word;\n",
       "    word-break: break-all;\n",
       "    font-family: \"Menlo\", \"Monaco\", \"Consolas\", \"Ubuntu Mono\", \"Source Code Pro\", monospace;\n",
       "    font-size: 13px;\n",
       "    color: #555;\n",
       "    margin-left: 4px;\n",
       "    line-height: 19px;\n",
       "  }\n",
       "</style>\n",
       "<div class=\"ansiout\">+----------------+---+------+--------+\n",
       "            Name|Age|Salary|Language|\n",
       "+----------------+---+------+--------+\n",
       "   Vishal Chavan| 27| 25000| Marathi|\n",
       " Vishakha Ghadge| 22| 25000| English|\n",
       "   Sanket Yewale| 23| 23000| English|\n",
       "Shrikant Shejwal| 21| 15000| English|\n",
       "       Amol More| 25| 55000| Marathi|\n",
       "+----------------+---+------+--------+\n",
       "\n",
       "</div>"
      ]
     },
     "metadata": {
      "application/vnd.databricks.v1+output": {
       "addedWidgets": {},
       "arguments": {},
       "data": "<div class=\"ansiout\">+----------------+---+------+--------+\n|            Name|Age|Salary|Language|\n+----------------+---+------+--------+\n|   Vishal Chavan| 27| 25000| Marathi|\n| Vishakha Ghadge| 22| 25000| English|\n|   Sanket Yewale| 23| 23000| English|\n|Shrikant Shejwal| 21| 15000| English|\n|       Amol More| 25| 55000| Marathi|\n+----------------+---+------+--------+\n\n</div>",
       "datasetInfos": [],
       "metadata": {},
       "removedWidgets": [],
       "type": "html"
      }
     },
     "output_type": "display_data"
    }
   ],
   "source": [
    "## dropDuplicates()\n",
    "data.dropDuplicates().show()"
   ]
  },
  {
   "cell_type": "code",
   "execution_count": 0,
   "metadata": {
    "application/vnd.databricks.v1+cell": {
     "cellMetadata": {},
     "inputWidgets": {},
     "nuid": "ee82d1d7-44b8-4240-a7a2-763f7a267635",
     "showTitle": false,
     "title": ""
    }
   },
   "outputs": [
    {
     "output_type": "display_data",
     "data": {
      "text/html": [
       "<style scoped>\n",
       "  .ansiout {\n",
       "    display: block;\n",
       "    unicode-bidi: embed;\n",
       "    white-space: pre-wrap;\n",
       "    word-wrap: break-word;\n",
       "    word-break: break-all;\n",
       "    font-family: \"Menlo\", \"Monaco\", \"Consolas\", \"Ubuntu Mono\", \"Source Code Pro\", monospace;\n",
       "    font-size: 13px;\n",
       "    color: #555;\n",
       "    margin-left: 4px;\n",
       "    line-height: 19px;\n",
       "  }\n",
       "</style>\n",
       "<div class=\"ansiout\">+----------------+---+------+--------+\n",
       "            Name|Age|Salary|Language|\n",
       "+----------------+---+------+--------+\n",
       "   Vishal Chavan| 27| 25000| Marathi|\n",
       " Vishakha Ghadge| 22| 25000| English|\n",
       "   Sanket Yewale| 23| 23000| English|\n",
       "Shrikant Shejwal| 21| 15000| English|\n",
       "       Amol More| 25| 55000| Marathi|\n",
       "+----------------+---+------+--------+\n",
       "\n",
       "</div>"
      ]
     },
     "metadata": {
      "application/vnd.databricks.v1+output": {
       "addedWidgets": {},
       "arguments": {},
       "data": "<div class=\"ansiout\">+----------------+---+------+--------+\n|            Name|Age|Salary|Language|\n+----------------+---+------+--------+\n|   Vishal Chavan| 27| 25000| Marathi|\n| Vishakha Ghadge| 22| 25000| English|\n|   Sanket Yewale| 23| 23000| English|\n|Shrikant Shejwal| 21| 15000| English|\n|       Amol More| 25| 55000| Marathi|\n+----------------+---+------+--------+\n\n</div>",
       "datasetInfos": [],
       "metadata": {},
       "removedWidgets": [],
       "type": "html"
      }
     },
     "output_type": "display_data"
    }
   ],
   "source": [
    "## distinct() working same as dropDuplicates()\n",
    "data.distinct().show()"
   ]
  },
  {
   "cell_type": "code",
   "execution_count": 0,
   "metadata": {
    "application/vnd.databricks.v1+cell": {
     "cellMetadata": {},
     "inputWidgets": {},
     "nuid": "124964c3-6882-4f27-b166-4cb1cf261a4d",
     "showTitle": false,
     "title": ""
    }
   },
   "outputs": [
    {
     "output_type": "display_data",
     "data": {
      "text/html": [
       "<style scoped>\n",
       "  .ansiout {\n",
       "    display: block;\n",
       "    unicode-bidi: embed;\n",
       "    white-space: pre-wrap;\n",
       "    word-wrap: break-word;\n",
       "    word-break: break-all;\n",
       "    font-family: \"Menlo\", \"Monaco\", \"Consolas\", \"Ubuntu Mono\", \"Source Code Pro\", monospace;\n",
       "    font-size: 13px;\n",
       "    color: #555;\n",
       "    margin-left: 4px;\n",
       "    line-height: 19px;\n",
       "  }\n",
       "</style>\n",
       "<div class=\"ansiout\">+----------------+---+------+--------+\n",
       "            Name|Age|Salary|Language|\n",
       "+----------------+---+------+--------+\n",
       "   Sanket Yewale| 23| 23000| English|\n",
       " Vishakha Ghadge| 22| 25000| English|\n",
       "Shrikant Shejwal| 21| 15000| English|\n",
       "       Amol More| 25| 55000| Marathi|\n",
       "+----------------+---+------+--------+\n",
       "\n",
       "</div>"
      ]
     },
     "metadata": {
      "application/vnd.databricks.v1+output": {
       "addedWidgets": {},
       "arguments": {},
       "data": "<div class=\"ansiout\">+----------------+---+------+--------+\n|            Name|Age|Salary|Language|\n+----------------+---+------+--------+\n|   Sanket Yewale| 23| 23000| English|\n| Vishakha Ghadge| 22| 25000| English|\n|Shrikant Shejwal| 21| 15000| English|\n|       Amol More| 25| 55000| Marathi|\n+----------------+---+------+--------+\n\n</div>",
       "datasetInfos": [],
       "metadata": {},
       "removedWidgets": [],
       "type": "html"
      }
     },
     "output_type": "display_data"
    }
   ],
   "source": [
    "## extract distinct value from perticular column\n",
    "data.dropDuplicates(['Salary']).show()"
   ]
  },
  {
   "cell_type": "code",
   "execution_count": 0,
   "metadata": {
    "application/vnd.databricks.v1+cell": {
     "cellMetadata": {},
     "inputWidgets": {},
     "nuid": "21a4f884-a5ae-4efd-b8cb-dfa0cf7759c4",
     "showTitle": false,
     "title": ""
    }
   },
   "outputs": [
    {
     "output_type": "display_data",
     "data": {
      "text/html": [
       "<style scoped>\n",
       "  .ansiout {\n",
       "    display: block;\n",
       "    unicode-bidi: embed;\n",
       "    white-space: pre-wrap;\n",
       "    word-wrap: break-word;\n",
       "    word-break: break-all;\n",
       "    font-family: \"Menlo\", \"Monaco\", \"Consolas\", \"Ubuntu Mono\", \"Source Code Pro\", monospace;\n",
       "    font-size: 13px;\n",
       "    color: #555;\n",
       "    margin-left: 4px;\n",
       "    line-height: 19px;\n",
       "  }\n",
       "</style>\n",
       "<div class=\"ansiout\">+--------+-----------+\n",
       "Language|sum(Salary)|\n",
       "+--------+-----------+\n",
       " English|      63000|\n",
       " Marathi|      80000|\n",
       "+--------+-----------+\n",
       "\n",
       "</div>"
      ]
     },
     "metadata": {
      "application/vnd.databricks.v1+output": {
       "addedWidgets": {},
       "arguments": {},
       "data": "<div class=\"ansiout\">+--------+-----------+\n|Language|sum(Salary)|\n+--------+-----------+\n| English|      63000|\n| Marathi|      80000|\n+--------+-----------+\n\n</div>",
       "datasetInfos": [],
       "metadata": {},
       "removedWidgets": [],
       "type": "html"
      }
     },
     "output_type": "display_data"
    }
   ],
   "source": [
    "## groupBy with sum()\n",
    "data.groupBy('Language').sum('Salary').show()"
   ]
  },
  {
   "cell_type": "code",
   "execution_count": 0,
   "metadata": {
    "application/vnd.databricks.v1+cell": {
     "cellMetadata": {},
     "inputWidgets": {},
     "nuid": "eb27baa9-533f-42fe-b035-2e7a3e155fd8",
     "showTitle": false,
     "title": ""
    }
   },
   "outputs": [
    {
     "output_type": "display_data",
     "data": {
      "text/html": [
       "<style scoped>\n",
       "  .ansiout {\n",
       "    display: block;\n",
       "    unicode-bidi: embed;\n",
       "    white-space: pre-wrap;\n",
       "    word-wrap: break-word;\n",
       "    word-break: break-all;\n",
       "    font-family: \"Menlo\", \"Monaco\", \"Consolas\", \"Ubuntu Mono\", \"Source Code Pro\", monospace;\n",
       "    font-size: 13px;\n",
       "    color: #555;\n",
       "    margin-left: 4px;\n",
       "    line-height: 19px;\n",
       "  }\n",
       "</style>\n",
       "<div class=\"ansiout\">+--------+-----------+\n",
       "Language|avg(Salary)|\n",
       "+--------+-----------+\n",
       " English|    21000.0|\n",
       " Marathi|    40000.0|\n",
       "+--------+-----------+\n",
       "\n",
       "</div>"
      ]
     },
     "metadata": {
      "application/vnd.databricks.v1+output": {
       "addedWidgets": {},
       "arguments": {},
       "data": "<div class=\"ansiout\">+--------+-----------+\n|Language|avg(Salary)|\n+--------+-----------+\n| English|    21000.0|\n| Marathi|    40000.0|\n+--------+-----------+\n\n</div>",
       "datasetInfos": [],
       "metadata": {},
       "removedWidgets": [],
       "type": "html"
      }
     },
     "output_type": "display_data"
    }
   ],
   "source": [
    "## average\n",
    "data.groupBy('Language').avg('Salary').show()"
   ]
  },
  {
   "cell_type": "code",
   "execution_count": 0,
   "metadata": {
    "application/vnd.databricks.v1+cell": {
     "cellMetadata": {},
     "inputWidgets": {},
     "nuid": "3e417397-4e99-4a73-9b0f-556bc70f8f3b",
     "showTitle": false,
     "title": ""
    }
   },
   "outputs": [
    {
     "output_type": "display_data",
     "data": {
      "text/html": [
       "<style scoped>\n",
       "  .ansiout {\n",
       "    display: block;\n",
       "    unicode-bidi: embed;\n",
       "    white-space: pre-wrap;\n",
       "    word-wrap: break-word;\n",
       "    word-break: break-all;\n",
       "    font-family: \"Menlo\", \"Monaco\", \"Consolas\", \"Ubuntu Mono\", \"Source Code Pro\", monospace;\n",
       "    font-size: 13px;\n",
       "    color: #555;\n",
       "    margin-left: 4px;\n",
       "    line-height: 19px;\n",
       "  }\n",
       "</style>\n",
       "<div class=\"ansiout\">+--------+-----------+\n",
       "Language|max(Salary)|\n",
       "+--------+-----------+\n",
       " English|      25000|\n",
       " Marathi|      55000|\n",
       "+--------+-----------+\n",
       "\n",
       "</div>"
      ]
     },
     "metadata": {
      "application/vnd.databricks.v1+output": {
       "addedWidgets": {},
       "arguments": {},
       "data": "<div class=\"ansiout\">+--------+-----------+\n|Language|max(Salary)|\n+--------+-----------+\n| English|      25000|\n| Marathi|      55000|\n+--------+-----------+\n\n</div>",
       "datasetInfos": [],
       "metadata": {},
       "removedWidgets": [],
       "type": "html"
      }
     },
     "output_type": "display_data"
    }
   ],
   "source": [
    "## max()\n",
    "data.groupBy('Language').max('Salary').show()"
   ]
  },
  {
   "cell_type": "code",
   "execution_count": 0,
   "metadata": {
    "application/vnd.databricks.v1+cell": {
     "cellMetadata": {},
     "inputWidgets": {},
     "nuid": "294b63ee-0354-423c-832d-1e81fa46cd1a",
     "showTitle": false,
     "title": ""
    }
   },
   "outputs": [
    {
     "output_type": "display_data",
     "data": {
      "text/html": [
       "<style scoped>\n",
       "  .ansiout {\n",
       "    display: block;\n",
       "    unicode-bidi: embed;\n",
       "    white-space: pre-wrap;\n",
       "    word-wrap: break-word;\n",
       "    word-break: break-all;\n",
       "    font-family: \"Menlo\", \"Monaco\", \"Consolas\", \"Ubuntu Mono\", \"Source Code Pro\", monospace;\n",
       "    font-size: 13px;\n",
       "    color: #555;\n",
       "    margin-left: 4px;\n",
       "    line-height: 19px;\n",
       "  }\n",
       "</style>\n",
       "<div class=\"ansiout\">+--------+-----------+\n",
       "Language|min(Salary)|\n",
       "+--------+-----------+\n",
       " English|      15000|\n",
       " Marathi|      25000|\n",
       "+--------+-----------+\n",
       "\n",
       "</div>"
      ]
     },
     "metadata": {
      "application/vnd.databricks.v1+output": {
       "addedWidgets": {},
       "arguments": {},
       "data": "<div class=\"ansiout\">+--------+-----------+\n|Language|min(Salary)|\n+--------+-----------+\n| English|      15000|\n| Marathi|      25000|\n+--------+-----------+\n\n</div>",
       "datasetInfos": [],
       "metadata": {},
       "removedWidgets": [],
       "type": "html"
      }
     },
     "output_type": "display_data"
    }
   ],
   "source": [
    "## min()\n",
    "data.groupBy('Language').min('Salary').show()"
   ]
  },
  {
   "cell_type": "code",
   "execution_count": 0,
   "metadata": {
    "application/vnd.databricks.v1+cell": {
     "cellMetadata": {},
     "inputWidgets": {},
     "nuid": "aec8288d-24e5-4602-9f9a-de1f374f9db2",
     "showTitle": false,
     "title": ""
    }
   },
   "outputs": [
    {
     "output_type": "display_data",
     "data": {
      "text/html": [
       "<style scoped>\n",
       "  .ansiout {\n",
       "    display: block;\n",
       "    unicode-bidi: embed;\n",
       "    white-space: pre-wrap;\n",
       "    word-wrap: break-word;\n",
       "    word-break: break-all;\n",
       "    font-family: \"Menlo\", \"Monaco\", \"Consolas\", \"Ubuntu Mono\", \"Source Code Pro\", monospace;\n",
       "    font-size: 13px;\n",
       "    color: #555;\n",
       "    margin-left: 4px;\n",
       "    line-height: 19px;\n",
       "  }\n",
       "</style>\n",
       "<div class=\"ansiout\">+--------+-----------+\n",
       "Language|avg(Salary)|\n",
       "+--------+-----------+\n",
       " English|    21000.0|\n",
       " Marathi|    40000.0|\n",
       "+--------+-----------+\n",
       "\n",
       "</div>"
      ]
     },
     "metadata": {
      "application/vnd.databricks.v1+output": {
       "addedWidgets": {},
       "arguments": {},
       "data": "<div class=\"ansiout\">+--------+-----------+\n|Language|avg(Salary)|\n+--------+-----------+\n| English|    21000.0|\n| Marathi|    40000.0|\n+--------+-----------+\n\n</div>",
       "datasetInfos": [],
       "metadata": {},
       "removedWidgets": [],
       "type": "html"
      }
     },
     "output_type": "display_data"
    }
   ],
   "source": [
    "## mean()\n",
    "data.groupBy('Language').mean('Salary').show()"
   ]
  },
  {
   "cell_type": "code",
   "execution_count": 0,
   "metadata": {
    "application/vnd.databricks.v1+cell": {
     "cellMetadata": {},
     "inputWidgets": {},
     "nuid": "9d163e0e-d8cc-4014-8ad8-fb0f1884154c",
     "showTitle": false,
     "title": ""
    }
   },
   "outputs": [
    {
     "output_type": "display_data",
     "data": {
      "text/html": [
       "<style scoped>\n",
       "  .ansiout {\n",
       "    display: block;\n",
       "    unicode-bidi: embed;\n",
       "    white-space: pre-wrap;\n",
       "    word-wrap: break-word;\n",
       "    word-break: break-all;\n",
       "    font-family: \"Menlo\", \"Monaco\", \"Consolas\", \"Ubuntu Mono\", \"Source Code Pro\", monospace;\n",
       "    font-size: 13px;\n",
       "    color: #555;\n",
       "    margin-left: 4px;\n",
       "    line-height: 19px;\n",
       "  }\n",
       "</style>\n",
       "<div class=\"ansiout\">+---+--------+-----------+\n",
       "Age|Language|sum(Salary)|\n",
       "+---+--------+-----------+\n",
       " 21| English|      15000|\n",
       " 22| English|      25000|\n",
       " 23| English|      23000|\n",
       " 25| Marathi|      55000|\n",
       " 27| Marathi|      25000|\n",
       "+---+--------+-----------+\n",
       "\n",
       "</div>"
      ]
     },
     "metadata": {
      "application/vnd.databricks.v1+output": {
       "addedWidgets": {},
       "arguments": {},
       "data": "<div class=\"ansiout\">+---+--------+-----------+\n|Age|Language|sum(Salary)|\n+---+--------+-----------+\n| 21| English|      15000|\n| 22| English|      25000|\n| 23| English|      23000|\n| 25| Marathi|      55000|\n| 27| Marathi|      25000|\n+---+--------+-----------+\n\n</div>",
       "datasetInfos": [],
       "metadata": {},
       "removedWidgets": [],
       "type": "html"
      }
     },
     "output_type": "display_data"
    }
   ],
   "source": [
    "## groupBy() on multiple column\n",
    "data.groupBy('Age', 'Language').sum('Salary').show()"
   ]
  },
  {
   "cell_type": "code",
   "execution_count": 0,
   "metadata": {
    "application/vnd.databricks.v1+cell": {
     "cellMetadata": {},
     "inputWidgets": {},
     "nuid": "06e420e5-c71a-4a10-be94-5f466af164e0",
     "showTitle": false,
     "title": ""
    }
   },
   "outputs": [
    {
     "output_type": "display_data",
     "data": {
      "text/html": [
       "<style scoped>\n",
       "  .ansiout {\n",
       "    display: block;\n",
       "    unicode-bidi: embed;\n",
       "    white-space: pre-wrap;\n",
       "    word-wrap: break-word;\n",
       "    word-break: break-all;\n",
       "    font-family: \"Menlo\", \"Monaco\", \"Consolas\", \"Ubuntu Mono\", \"Source Code Pro\", monospace;\n",
       "    font-size: 13px;\n",
       "    color: #555;\n",
       "    margin-left: 4px;\n",
       "    line-height: 19px;\n",
       "  }\n",
       "</style>\n",
       "<div class=\"ansiout\">+----------------+---+------+--------+\n",
       "            Name|Age|Salary|Language|\n",
       "+----------------+---+------+--------+\n",
       "Shrikant Shejwal| 21| 15000| English|\n",
       "       Amol More| 25| 55000| Marathi|\n",
       " Vishakha Ghadge| 22| 25000| English|\n",
       "   Vishal Chavan| 27| 25000| Marathi|\n",
       "   Sanket Yewale| 23| 23000| English|\n",
       "Shrikant Shejwal| 21| 15000| English|\n",
       "       Amol More| 25| 55000| Marathi|\n",
       " Vishakha Ghadge| 22| 25000| English|\n",
       "   Vishal Chavan| 27| 25000| Marathi|\n",
       "   Sanket Yewale| 23| 23000| English|\n",
       "+----------------+---+------+--------+\n",
       "\n",
       "</div>"
      ]
     },
     "metadata": {
      "application/vnd.databricks.v1+output": {
       "addedWidgets": {},
       "arguments": {},
       "data": "<div class=\"ansiout\">+----------------+---+------+--------+\n|            Name|Age|Salary|Language|\n+----------------+---+------+--------+\n|Shrikant Shejwal| 21| 15000| English|\n|       Amol More| 25| 55000| Marathi|\n| Vishakha Ghadge| 22| 25000| English|\n|   Vishal Chavan| 27| 25000| Marathi|\n|   Sanket Yewale| 23| 23000| English|\n|Shrikant Shejwal| 21| 15000| English|\n|       Amol More| 25| 55000| Marathi|\n| Vishakha Ghadge| 22| 25000| English|\n|   Vishal Chavan| 27| 25000| Marathi|\n|   Sanket Yewale| 23| 23000| English|\n+----------------+---+------+--------+\n\n</div>",
       "datasetInfos": [],
       "metadata": {},
       "removedWidgets": [],
       "type": "html"
      }
     },
     "output_type": "display_data"
    }
   ],
   "source": [
    "## union() => it marge two same schema types of dataframe otherwise it show error\n",
    "data.union(data).show()"
   ]
  },
  {
   "cell_type": "code",
   "execution_count": 0,
   "metadata": {
    "application/vnd.databricks.v1+cell": {
     "cellMetadata": {},
     "inputWidgets": {},
     "nuid": "e67ece0e-3c7e-482d-916b-fe0a29425bf3",
     "showTitle": false,
     "title": ""
    }
   },
   "outputs": [
    {
     "output_type": "display_data",
     "data": {
      "text/html": [
       "<style scoped>\n",
       "  .ansiout {\n",
       "    display: block;\n",
       "    unicode-bidi: embed;\n",
       "    white-space: pre-wrap;\n",
       "    word-wrap: break-word;\n",
       "    word-break: break-all;\n",
       "    font-family: \"Menlo\", \"Monaco\", \"Consolas\", \"Ubuntu Mono\", \"Source Code Pro\", monospace;\n",
       "    font-size: 13px;\n",
       "    color: #555;\n",
       "    margin-left: 4px;\n",
       "    line-height: 19px;\n",
       "  }\n",
       "</style>\n",
       "<div class=\"ansiout\">+---+-------------------+\n",
       "Age|Splited Name       |\n",
       "+---+-------------------+\n",
       "21 |[shrikant, shejwal]|\n",
       "25 |[amol, more]       |\n",
       "22 |[vishakha, ghadge] |\n",
       "27 |[vishal, chavan]   |\n",
       "23 |[sanket, yewale]   |\n",
       "+---+-------------------+\n",
       "\n",
       "</div>"
      ]
     },
     "metadata": {
      "application/vnd.databricks.v1+output": {
       "addedWidgets": {},
       "arguments": {},
       "data": "<div class=\"ansiout\">+---+-------------------+\n|Age|Splited Name       |\n+---+-------------------+\n|21 |[shrikant, shejwal]|\n|25 |[amol, more]       |\n|22 |[vishakha, ghadge] |\n|27 |[vishal, chavan]   |\n|23 |[sanket, yewale]   |\n+---+-------------------+\n\n</div>",
       "datasetInfos": [],
       "metadata": {},
       "removedWidgets": [],
       "type": "html"
      }
     },
     "output_type": "display_data"
    }
   ],
   "source": [
    "## UDF function\n",
    "def string(str):\n",
    "  x = str.lower()\n",
    "  x = x.split(' ')\n",
    "  return x\n",
    "\n",
    "output = udf(lambda x : string(x), StringType())\n",
    "data.select(col(\"Age\"), output(col(\"Name\")).alias(\"Splited Name\") ).show(truncate=False)"
   ]
  },
  {
   "cell_type": "code",
   "execution_count": 0,
   "metadata": {
    "application/vnd.databricks.v1+cell": {
     "cellMetadata": {},
     "inputWidgets": {},
     "nuid": "0c770c2a-ca1e-42af-9c00-ebf6ee79fda4",
     "showTitle": false,
     "title": ""
    }
   },
   "outputs": [
    {
     "output_type": "display_data",
     "data": {
      "text/html": [
       "<style scoped>\n",
       "  .ansiout {\n",
       "    display: block;\n",
       "    unicode-bidi: embed;\n",
       "    white-space: pre-wrap;\n",
       "    word-wrap: break-word;\n",
       "    word-break: break-all;\n",
       "    font-family: \"Menlo\", \"Monaco\", \"Consolas\", \"Ubuntu Mono\", \"Source Code Pro\", monospace;\n",
       "    font-size: 13px;\n",
       "    color: #555;\n",
       "    margin-left: 4px;\n",
       "    line-height: 19px;\n",
       "  }\n",
       "</style>\n",
       "<div class=\"ansiout\">+------+------------------------+---+------------------+\n",
       "Salary|Salary multiplied by two|Age|Age After Two Year|\n",
       "+------+------------------------+---+------------------+\n",
       " 15000|                   30000| 21|                23|\n",
       " 55000|                  110000| 25|                27|\n",
       " 25000|                   50000| 22|                24|\n",
       " 25000|                   50000| 27|                29|\n",
       " 23000|                   46000| 23|                25|\n",
       "+------+------------------------+---+------------------+\n",
       "\n",
       "</div>"
      ]
     },
     "metadata": {
      "application/vnd.databricks.v1+output": {
       "addedWidgets": {},
       "arguments": {},
       "data": "<div class=\"ansiout\">+------+------------------------+---+------------------+\n|Salary|Salary multiplied by two|Age|Age After Two Year|\n+------+------------------------+---+------------------+\n| 15000|                   30000| 21|                23|\n| 55000|                  110000| 25|                27|\n| 25000|                   50000| 22|                24|\n| 25000|                   50000| 27|                29|\n| 23000|                   46000| 23|                25|\n+------+------------------------+---+------------------+\n\n</div>",
       "datasetInfos": [],
       "metadata": {},
       "removedWidgets": [],
       "type": "html"
      }
     },
     "output_type": "display_data"
    }
   ],
   "source": [
    "def mul_two(number):\n",
    "  number = number * 2 \n",
    "  return number\n",
    "def plus_two(number):\n",
    "  number = number + 2\n",
    "  return number\n",
    "\n",
    "result = udf(lambda x : mul_two(x), IntegerType())\n",
    "output = udf(lambda x : plus_two(x), IntegerType())\n",
    "data.select(col(\"Salary\"), result(col('Salary')).alias('Salary multiplied by two'), col(\"Age\"), output(col('Age')).alias('Age After Two Year')).show()"
   ]
  },
  {
   "cell_type": "code",
   "execution_count": 0,
   "metadata": {
    "application/vnd.databricks.v1+cell": {
     "cellMetadata": {},
     "inputWidgets": {},
     "nuid": "beae9bc6-312d-4305-b5bc-a5054928e5bd",
     "showTitle": false,
     "title": ""
    }
   },
   "outputs": [
    {
     "output_type": "display_data",
     "data": {
      "text/html": [
       "<style scoped>\n",
       "  .ansiout {\n",
       "    display: block;\n",
       "    unicode-bidi: embed;\n",
       "    white-space: pre-wrap;\n",
       "    word-wrap: break-word;\n",
       "    word-break: break-all;\n",
       "    font-family: \"Menlo\", \"Monaco\", \"Consolas\", \"Ubuntu Mono\", \"Source Code Pro\", monospace;\n",
       "    font-size: 13px;\n",
       "    color: #555;\n",
       "    margin-left: 4px;\n",
       "    line-height: 19px;\n",
       "  }\n",
       "</style>\n",
       "<div class=\"ansiout\">+----------------+---+------+--------+-------------------+\n",
       "            Name|Age|Salary|Language|Age After Two Years|\n",
       "+----------------+---+------+--------+-------------------+\n",
       "Shrikant Shejwal| 21| 15000| English|                 23|\n",
       "       Amol More| 25| 55000| Marathi|                 27|\n",
       " Vishakha Ghadge| 22| 25000| English|                 24|\n",
       "   Vishal Chavan| 27| 25000| Marathi|                 29|\n",
       "   Sanket Yewale| 23| 23000| English|                 25|\n",
       "+----------------+---+------+--------+-------------------+\n",
       "\n",
       "</div>"
      ]
     },
     "metadata": {
      "application/vnd.databricks.v1+output": {
       "addedWidgets": {},
       "arguments": {},
       "data": "<div class=\"ansiout\">+----------------+---+------+--------+-------------------+\n|            Name|Age|Salary|Language|Age After Two Years|\n+----------------+---+------+--------+-------------------+\n|Shrikant Shejwal| 21| 15000| English|                 23|\n|       Amol More| 25| 55000| Marathi|                 27|\n| Vishakha Ghadge| 22| 25000| English|                 24|\n|   Vishal Chavan| 27| 25000| Marathi|                 29|\n|   Sanket Yewale| 23| 23000| English|                 25|\n+----------------+---+------+--------+-------------------+\n\n</div>",
       "datasetInfos": [],
       "metadata": {},
       "removedWidgets": [],
       "type": "html"
      }
     },
     "output_type": "display_data"
    }
   ],
   "source": [
    "## udf() using withColumn()\n",
    "def plus_two(number):\n",
    "  number = number + 2\n",
    "  return number\n",
    "\n",
    "output = udf(lambda x : plus_two(x), IntegerType())\n",
    "data.withColumn(\"Age After Two Years\", output(col('Age'))).show()"
   ]
  },
  {
   "cell_type": "code",
   "execution_count": 0,
   "metadata": {
    "application/vnd.databricks.v1+cell": {
     "cellMetadata": {},
     "inputWidgets": {},
     "nuid": "2cd40c8c-2b7a-4a3e-94b7-2449a59d3d05",
     "showTitle": false,
     "title": ""
    }
   },
   "outputs": [],
   "source": []
  }
 ],
 "metadata": {
  "application/vnd.databricks.v1+notebook": {
   "dashboards": [],
   "language": "python",
   "notebookMetadata": {
    "pythonIndentUnit": 2
   },
   "notebookName": "pyspark",
   "widgets": {}
  }
 },
 "nbformat": 4,
 "nbformat_minor": 0
}
